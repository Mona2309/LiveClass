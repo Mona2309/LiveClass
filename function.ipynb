{
 "cells": [
  {
   "cell_type": "code",
   "execution_count": 2,
   "id": "b74a1f81",
   "metadata": {},
   "outputs": [
    {
     "name": "stdout",
     "output_type": "stream",
     "text": [
      "enter a course name: inueron\n",
      "enter a course name:DSA\n",
      "enter a course name:onenuron\n",
      "bla bla bla\n"
     ]
    }
   ],
   "source": [
    "s= input(\"enter a course name: \")\n",
    "print\n",
    "course= input(\"enter a course name:\")\n",
    "service=input(\"enter a course name:\")\n",
    "if s==\"inueron\":\n",
    "    if course ==\"DSA\":\n",
    "        print(\"bla bla bla\")\n",
    "    elif course ==\"blockchain\":\n",
    "        print(\"kindly raise demand\")\n",
    "    elif course ==\"FSDS\":\n",
    "        print (\"yes its available\")\n",
    "    else:\n",
    "        print(\"this is not available\")\n",
    "elif s==\"oneneuron\":\n",
    "    if service==\"courserequest\":\n",
    "        print(\"raise a demand\")\n",
    "    elif service==\"modulerequest\":\n",
    "        print(\"raise a demand in 30 days\")\n",
    "    elif service==\"doubt\":\n",
    "        print(\"within 24hrs\")\n",
    "    elif service ==\"workwithus\":\n",
    "        print(\"work with us\")\n",
    "    else:\n",
    "        print(\"feedback\")\n",
    "else:\n",
    "    print(\"kindly contact us\")"
   ]
  },
  {
   "cell_type": "code",
   "execution_count": 3,
   "id": "24bb1b33",
   "metadata": {},
   "outputs": [
    {
     "data": {
      "text/plain": [
       "9"
      ]
     },
     "execution_count": 3,
     "metadata": {},
     "output_type": "execute_result"
    }
   ],
   "source": [
    "len(\"monalisha\")"
   ]
  },
  {
   "cell_type": "code",
   "execution_count": 4,
   "id": "1a5d70d2",
   "metadata": {},
   "outputs": [],
   "source": [
    "def test():\n",
    "    pass"
   ]
  },
  {
   "cell_type": "code",
   "execution_count": 5,
   "id": "9083cad3",
   "metadata": {},
   "outputs": [],
   "source": [
    "def test1():\n",
    "    print(\"this is my first function\")"
   ]
  },
  {
   "cell_type": "code",
   "execution_count": 6,
   "id": "bf458737",
   "metadata": {},
   "outputs": [
    {
     "name": "stdout",
     "output_type": "stream",
     "text": [
      "this is my first function\n"
     ]
    }
   ],
   "source": [
    "test1()"
   ]
  },
  {
   "cell_type": "code",
   "execution_count": null,
   "id": "20ec4c71",
   "metadata": {},
   "outputs": [],
   "source": []
  },
  {
   "cell_type": "code",
   "execution_count": 9,
   "id": "ae96d91b",
   "metadata": {},
   "outputs": [
    {
     "name": "stdout",
     "output_type": "stream",
     "text": [
      "Yes\n"
     ]
    }
   ],
   "source": [
    "def Palindrome(s):\n",
    "    return s == s[::-1]\n",
    " \n",
    " \n",
    "s = \"malayalam\"\n",
    "ans = Palindrome(s)\n",
    " \n",
    "if ans:\n",
    "    print(\"Yes\")\n",
    "else:\n",
    "    print(\"No\")"
   ]
  },
  {
   "cell_type": "code",
   "execution_count": 10,
   "id": "fea1403d",
   "metadata": {},
   "outputs": [
    {
     "data": {
      "text/plain": [
       "True"
      ]
     },
     "execution_count": 10,
     "metadata": {},
     "output_type": "execute_result"
    }
   ],
   "source": [
    "Palindrome(\"mam\")"
   ]
  },
  {
   "cell_type": "code",
   "execution_count": 12,
   "id": "860290f0",
   "metadata": {},
   "outputs": [
    {
     "name": "stdout",
     "output_type": "stream",
     "text": [
      "this is my first function\n"
     ]
    }
   ],
   "source": [
    "a=test1()"
   ]
  },
  {
   "cell_type": "code",
   "execution_count": 13,
   "id": "febf5d83",
   "metadata": {},
   "outputs": [
    {
     "data": {
      "text/plain": [
       "function"
      ]
     },
     "execution_count": 13,
     "metadata": {},
     "output_type": "execute_result"
    }
   ],
   "source": [
    "type(test1)"
   ]
  },
  {
   "cell_type": "code",
   "execution_count": 15,
   "id": "01d7844f",
   "metadata": {},
   "outputs": [
    {
     "data": {
      "text/plain": [
       "'None'"
      ]
     },
     "execution_count": 15,
     "metadata": {},
     "output_type": "execute_result"
    }
   ],
   "source": [
    "str(a)"
   ]
  },
  {
   "cell_type": "code",
   "execution_count": 16,
   "id": "fb5edb53",
   "metadata": {},
   "outputs": [],
   "source": [
    "def test2():\n",
    "    return (\"this is my first function\")\n",
    "    "
   ]
  },
  {
   "cell_type": "code",
   "execution_count": 17,
   "id": "fa988eb3",
   "metadata": {},
   "outputs": [
    {
     "data": {
      "text/plain": [
       "function"
      ]
     },
     "execution_count": 17,
     "metadata": {},
     "output_type": "execute_result"
    }
   ],
   "source": [
    "type(test2)"
   ]
  },
  {
   "cell_type": "code",
   "execution_count": 18,
   "id": "f749daf1",
   "metadata": {},
   "outputs": [],
   "source": [
    "def test3():\n",
    "    return 235775"
   ]
  },
  {
   "cell_type": "code",
   "execution_count": 19,
   "id": "8ee1c995",
   "metadata": {},
   "outputs": [
    {
     "data": {
      "text/plain": [
       "236009"
      ]
     },
     "execution_count": 19,
     "metadata": {},
     "output_type": "execute_result"
    }
   ],
   "source": [
    "test3()+234"
   ]
  },
  {
   "cell_type": "code",
   "execution_count": 21,
   "id": "a745c48f",
   "metadata": {},
   "outputs": [
    {
     "data": {
      "text/plain": [
       "int"
      ]
     },
     "execution_count": 21,
     "metadata": {},
     "output_type": "execute_result"
    }
   ],
   "source": [
    "type(test3())"
   ]
  },
  {
   "cell_type": "code",
   "execution_count": 22,
   "id": "62545de1",
   "metadata": {},
   "outputs": [],
   "source": [
    "def test4():\n",
    "    return 4,3,\"mona\",[2,3,4,5,6]"
   ]
  },
  {
   "cell_type": "code",
   "execution_count": 23,
   "id": "359b1888",
   "metadata": {},
   "outputs": [
    {
     "data": {
      "text/plain": [
       "tuple"
      ]
     },
     "execution_count": 23,
     "metadata": {},
     "output_type": "execute_result"
    }
   ],
   "source": [
    "type(test4())"
   ]
  },
  {
   "cell_type": "code",
   "execution_count": 24,
   "id": "5de847ce",
   "metadata": {},
   "outputs": [
    {
     "data": {
      "text/plain": [
       "(4, 3, 'mona', [2, 3, 4, 5, 6])"
      ]
     },
     "execution_count": 24,
     "metadata": {},
     "output_type": "execute_result"
    }
   ],
   "source": [
    "test4()"
   ]
  },
  {
   "cell_type": "code",
   "execution_count": 25,
   "id": "b52224df",
   "metadata": {},
   "outputs": [],
   "source": [
    "b= test4()"
   ]
  },
  {
   "cell_type": "code",
   "execution_count": 26,
   "id": "7ae51d18",
   "metadata": {},
   "outputs": [
    {
     "data": {
      "text/plain": [
       "(4, 3, 'mona', [2, 3, 4, 5, 6])"
      ]
     },
     "execution_count": 26,
     "metadata": {},
     "output_type": "execute_result"
    }
   ],
   "source": [
    "b"
   ]
  },
  {
   "cell_type": "code",
   "execution_count": 27,
   "id": "32259082",
   "metadata": {},
   "outputs": [
    {
     "data": {
      "text/plain": [
       "5"
      ]
     },
     "execution_count": 27,
     "metadata": {},
     "output_type": "execute_result"
    }
   ],
   "source": [
    "b[3][3]"
   ]
  },
  {
   "cell_type": "code",
   "execution_count": 31,
   "id": "4166d320",
   "metadata": {},
   "outputs": [],
   "source": [
    "a,b,c,d=1,5,\"sudh\",[5,74,3,5,5,6]"
   ]
  },
  {
   "cell_type": "code",
   "execution_count": 32,
   "id": "a3c02367",
   "metadata": {},
   "outputs": [],
   "source": [
    "x,y,u,v=test4()"
   ]
  },
  {
   "cell_type": "code",
   "execution_count": 33,
   "id": "d1976fbd",
   "metadata": {},
   "outputs": [
    {
     "data": {
      "text/plain": [
       "4"
      ]
     },
     "execution_count": 33,
     "metadata": {},
     "output_type": "execute_result"
    }
   ],
   "source": [
    "x"
   ]
  },
  {
   "cell_type": "code",
   "execution_count": 34,
   "id": "c3ccaade",
   "metadata": {},
   "outputs": [],
   "source": [
    "def test5():\n",
    "    a = 6*7 /6\n",
    "    return a"
   ]
  },
  {
   "cell_type": "code",
   "execution_count": 35,
   "id": "0580ea86",
   "metadata": {},
   "outputs": [
    {
     "data": {
      "text/plain": [
       "7.0"
      ]
     },
     "execution_count": 35,
     "metadata": {},
     "output_type": "execute_result"
    }
   ],
   "source": [
    "test5()"
   ]
  },
  {
   "cell_type": "code",
   "execution_count": 36,
   "id": "9c43afe6",
   "metadata": {},
   "outputs": [],
   "source": [
    "l = [3,4,5,6,7,\"mona\",[1,2,3,4,64]]"
   ]
  },
  {
   "cell_type": "code",
   "execution_count": 37,
   "id": "da73b430",
   "metadata": {},
   "outputs": [],
   "source": [
    "def test6(w):\n",
    "    n= []\n",
    "    if type(w) == list:\n",
    "        for i in w:\n",
    "            if type(i) == int:\n",
    "                n.append(i)\n",
    "    return n\n",
    "            \n",
    "        "
   ]
  },
  {
   "cell_type": "code",
   "execution_count": 39,
   "id": "568857ed",
   "metadata": {},
   "outputs": [],
   "source": [
    "w= [3,4,5,6,7,\"mona\",[1,2,3,4,64]]"
   ]
  },
  {
   "cell_type": "code",
   "execution_count": 40,
   "id": "9eec8f12",
   "metadata": {},
   "outputs": [
    {
     "data": {
      "text/plain": [
       "[3, 4, 5, 6, 7]"
      ]
     },
     "execution_count": 40,
     "metadata": {},
     "output_type": "execute_result"
    }
   ],
   "source": [
    "test6(w)"
   ]
  },
  {
   "cell_type": "code",
   "execution_count": 42,
   "id": "96e87f11",
   "metadata": {},
   "outputs": [
    {
     "data": {
      "text/plain": [
       "list"
      ]
     },
     "execution_count": 42,
     "metadata": {},
     "output_type": "execute_result"
    }
   ],
   "source": [
    "type(test6(w))"
   ]
  },
  {
   "cell_type": "code",
   "execution_count": null,
   "id": "b39e95a5",
   "metadata": {},
   "outputs": [],
   "source": [
    "d = {\"a\":\"mona\", \"x\":45, \"t\":[1,2,3,4,5,6]}"
   ]
  },
  {
   "cell_type": "code",
   "execution_count": 45,
   "id": "8000fc75",
   "metadata": {},
   "outputs": [],
   "source": [
    "def test7(x):\n",
    "    if type(x) == dict:\n",
    "        return x.keys()\n",
    "    else:\n",
    "        return \"not a dict\""
   ]
  },
  {
   "cell_type": "code",
   "execution_count": 48,
   "id": "34fd15d1",
   "metadata": {},
   "outputs": [
    {
     "data": {
      "text/plain": [
       "dict_keys(['a', 'x', 't'])"
      ]
     },
     "execution_count": 48,
     "metadata": {},
     "output_type": "execute_result"
    }
   ],
   "source": [
    "test7({\"a\":\"mona\", \"x\":45, \"t\":[1,2,3,4,5,6]})"
   ]
  },
  {
   "cell_type": "code",
   "execution_count": 59,
   "id": "ce63660b",
   "metadata": {},
   "outputs": [],
   "source": [
    "def test9(a,b):\n",
    "    if type(a)==list and type(b)==list:\n",
    "        a.extend(b)\n",
    "        return b\n",
    "    else:\n",
    "        return \"not a list\"\n",
    "\n",
    "    \n"
   ]
  },
  {
   "cell_type": "code",
   "execution_count": 62,
   "id": "b3867aaf",
   "metadata": {},
   "outputs": [
    {
     "data": {
      "text/plain": [
       "[123, 123445]"
      ]
     },
     "execution_count": 62,
     "metadata": {},
     "output_type": "execute_result"
    }
   ],
   "source": [
    "test9([1234,3456],[123,123445])"
   ]
  },
  {
   "cell_type": "code",
   "execution_count": 63,
   "id": "a583492e",
   "metadata": {},
   "outputs": [
    {
     "data": {
      "text/plain": [
       "[123, 4, 5, 6, 7]"
      ]
     },
     "execution_count": 63,
     "metadata": {},
     "output_type": "execute_result"
    }
   ],
   "source": [
    "b"
   ]
  },
  {
   "cell_type": "code",
   "execution_count": 52,
   "id": "41ca5f37",
   "metadata": {},
   "outputs": [
    {
     "data": {
      "text/plain": [
       "5"
      ]
     },
     "execution_count": 52,
     "metadata": {},
     "output_type": "execute_result"
    }
   ],
   "source": [
    "b"
   ]
  },
  {
   "cell_type": "code",
   "execution_count": 54,
   "id": "bfbf3411",
   "metadata": {},
   "outputs": [
    {
     "data": {
      "text/plain": [
       "NoneType"
      ]
     },
     "execution_count": 54,
     "metadata": {},
     "output_type": "execute_result"
    }
   ],
   "source": [
    "type(n)"
   ]
  },
  {
   "cell_type": "code",
   "execution_count": 55,
   "id": "8620f5df",
   "metadata": {},
   "outputs": [],
   "source": [
    "a=[1,2,3,4,5]"
   ]
  },
  {
   "cell_type": "code",
   "execution_count": 56,
   "id": "b086ef53",
   "metadata": {},
   "outputs": [],
   "source": [
    "b=[123,4,5,6,7]"
   ]
  },
  {
   "cell_type": "code",
   "execution_count": 57,
   "id": "f6332e2f",
   "metadata": {},
   "outputs": [],
   "source": [
    "test9(a,b)"
   ]
  },
  {
   "cell_type": "code",
   "execution_count": 58,
   "id": "d52a2341",
   "metadata": {},
   "outputs": [
    {
     "data": {
      "text/plain": [
       "[1, 2, 3, 4, 5, 123, 4, 5, 6, 7]"
      ]
     },
     "execution_count": 58,
     "metadata": {},
     "output_type": "execute_result"
    }
   ],
   "source": [
    "a"
   ]
  },
  {
   "cell_type": "code",
   "execution_count": 79,
   "id": "8387eefe",
   "metadata": {},
   "outputs": [],
   "source": [
    "def pyramid(n):\n",
    "    \"\"\"this function is used to print pyramid\"\"\"\n",
    "    for i in range(0, n):\n",
    "        for j in range(0, i+1):\n",
    "            print(\"* \",end=\"\")\n",
    "        print(\"\\r\")\n",
    "    \n",
    "      \n"
   ]
  },
  {
   "cell_type": "code",
   "execution_count": 72,
   "id": "f6e85fc5",
   "metadata": {},
   "outputs": [],
   "source": []
  },
  {
   "cell_type": "code",
   "execution_count": 78,
   "id": "39254b5c",
   "metadata": {},
   "outputs": [
    {
     "name": "stdout",
     "output_type": "stream",
     "text": [
      "* \r\n",
      "* * \r\n",
      "* * * \r\n",
      "* * * * \r\n",
      "* * * * * \r\n",
      "* * * * * * \r\n"
     ]
    }
   ],
   "source": [
    "pyramid(6)"
   ]
  },
  {
   "cell_type": "code",
   "execution_count": 86,
   "id": "64493bb2",
   "metadata": {},
   "outputs": [],
   "source": [
    "def mylen():\n",
    "    \n",
    "    str = input(\"Enter a string: \")\n",
    "    c = 0\n",
    "    for s in str:\n",
    "        c = c+1\n",
    "    return (\"Length of the input string is:\", c)"
   ]
  },
  {
   "cell_type": "code",
   "execution_count": 88,
   "id": "cc89e55e",
   "metadata": {},
   "outputs": [
    {
     "name": "stdout",
     "output_type": "stream",
     "text": [
      "Enter a string: monalisha\n"
     ]
    },
    {
     "data": {
      "text/plain": [
       "('Length of the input string is:', 9)"
      ]
     },
     "execution_count": 88,
     "metadata": {},
     "output_type": "execute_result"
    }
   ],
   "source": [
    "mylen()"
   ]
  },
  {
   "cell_type": "code",
   "execution_count": 91,
   "id": "560c1f5c",
   "metadata": {},
   "outputs": [],
   "source": [
    "def ele(l):\n",
    "    index=0\n",
    "    \n",
    "    if type(l)==str or type(l)==tuple or type(l)==dict or type(l)==list or type(l)==set or type(l)==int:\n",
    "        while index < len(items):\n",
    "            print(index, items[index])\n",
    "            index += 1\n",
    "              \n"
   ]
  },
  {
   "cell_type": "code",
   "execution_count": 92,
   "id": "10fc4da1",
   "metadata": {},
   "outputs": [],
   "source": [
    "l=\"monalishadhal\""
   ]
  },
  {
   "cell_type": "code",
   "execution_count": 94,
   "id": "4577f0cd",
   "metadata": {},
   "outputs": [
    {
     "ename": "NameError",
     "evalue": "name 'items' is not defined",
     "output_type": "error",
     "traceback": [
      "\u001b[1;31m---------------------------------------------------------------------------\u001b[0m",
      "\u001b[1;31mNameError\u001b[0m                                 Traceback (most recent call last)",
      "\u001b[1;32mC:\\Users\\MONALI~1.DHA\\AppData\\Local\\Temp/ipykernel_13868/1060161089.py\u001b[0m in \u001b[0;36m<module>\u001b[1;34m\u001b[0m\n\u001b[1;32m----> 1\u001b[1;33m \u001b[0mele\u001b[0m\u001b[1;33m(\u001b[0m\u001b[1;34m\"monalisha\"\u001b[0m\u001b[1;33m)\u001b[0m\u001b[1;33m\u001b[0m\u001b[1;33m\u001b[0m\u001b[0m\n\u001b[0m",
      "\u001b[1;32mC:\\Users\\MONALI~1.DHA\\AppData\\Local\\Temp/ipykernel_13868/2598415776.py\u001b[0m in \u001b[0;36mele\u001b[1;34m(l)\u001b[0m\n\u001b[0;32m      2\u001b[0m     \u001b[0mindex\u001b[0m\u001b[1;33m=\u001b[0m\u001b[1;36m0\u001b[0m\u001b[1;33m\u001b[0m\u001b[1;33m\u001b[0m\u001b[0m\n\u001b[0;32m      3\u001b[0m     \u001b[1;32mif\u001b[0m \u001b[0mtype\u001b[0m\u001b[1;33m(\u001b[0m\u001b[0ml\u001b[0m\u001b[1;33m)\u001b[0m\u001b[1;33m==\u001b[0m\u001b[0mstr\u001b[0m \u001b[1;32mor\u001b[0m \u001b[0mtype\u001b[0m\u001b[1;33m(\u001b[0m\u001b[0ml\u001b[0m\u001b[1;33m)\u001b[0m\u001b[1;33m==\u001b[0m\u001b[0mtuple\u001b[0m \u001b[1;32mor\u001b[0m \u001b[0mtype\u001b[0m\u001b[1;33m(\u001b[0m\u001b[0ml\u001b[0m\u001b[1;33m)\u001b[0m\u001b[1;33m==\u001b[0m\u001b[0mdict\u001b[0m \u001b[1;32mor\u001b[0m \u001b[0mtype\u001b[0m\u001b[1;33m(\u001b[0m\u001b[0ml\u001b[0m\u001b[1;33m)\u001b[0m\u001b[1;33m==\u001b[0m\u001b[0mlist\u001b[0m \u001b[1;32mor\u001b[0m \u001b[0mtype\u001b[0m\u001b[1;33m(\u001b[0m\u001b[0ml\u001b[0m\u001b[1;33m)\u001b[0m\u001b[1;33m==\u001b[0m\u001b[0mset\u001b[0m \u001b[1;32mor\u001b[0m \u001b[0mtype\u001b[0m\u001b[1;33m(\u001b[0m\u001b[0ml\u001b[0m\u001b[1;33m)\u001b[0m\u001b[1;33m==\u001b[0m\u001b[0mint\u001b[0m\u001b[1;33m:\u001b[0m\u001b[1;33m\u001b[0m\u001b[1;33m\u001b[0m\u001b[0m\n\u001b[1;32m----> 4\u001b[1;33m         \u001b[1;32mwhile\u001b[0m \u001b[0mindex\u001b[0m \u001b[1;33m<\u001b[0m \u001b[0mlen\u001b[0m\u001b[1;33m(\u001b[0m\u001b[0mitems\u001b[0m\u001b[1;33m)\u001b[0m\u001b[1;33m:\u001b[0m\u001b[1;33m\u001b[0m\u001b[1;33m\u001b[0m\u001b[0m\n\u001b[0m\u001b[0;32m      5\u001b[0m             \u001b[0mprint\u001b[0m\u001b[1;33m(\u001b[0m\u001b[0mindex\u001b[0m\u001b[1;33m,\u001b[0m \u001b[0mitems\u001b[0m\u001b[1;33m[\u001b[0m\u001b[0mindex\u001b[0m\u001b[1;33m]\u001b[0m\u001b[1;33m)\u001b[0m\u001b[1;33m\u001b[0m\u001b[1;33m\u001b[0m\u001b[0m\n\u001b[0;32m      6\u001b[0m             \u001b[0mindex\u001b[0m \u001b[1;33m+=\u001b[0m \u001b[1;36m1\u001b[0m\u001b[1;33m\u001b[0m\u001b[1;33m\u001b[0m\u001b[0m\n",
      "\u001b[1;31mNameError\u001b[0m: name 'items' is not defined"
     ]
    }
   ],
   "source": [
    "ele(\"monalisha\")"
   ]
  },
  {
   "cell_type": "code",
   "execution_count": 1,
   "id": "fa2b3505",
   "metadata": {},
   "outputs": [],
   "source": [
    "def mylist(d):\n",
    "    result = [(key, val) for key, val in mylist(d).items()] \n",
    "    return result"
   ]
  },
  {
   "cell_type": "code",
   "execution_count": 2,
   "id": "f6ce2505",
   "metadata": {},
   "outputs": [],
   "source": [
    "d = {'Dict1': {\"a\":123, \"b\":\"newname\", \"c\":[1,3,5,6,6], \"a1\":\"mona\", \"x1\":'45' ,\"t\":[1,2,3,4,5,6]},\n",
    "     'Dict2': {\"name\": \"Bob\", \"age\": 25}}"
   ]
  },
  {
   "cell_type": "code",
   "execution_count": 1,
   "id": "a27ca579",
   "metadata": {},
   "outputs": [
    {
     "ename": "NameError",
     "evalue": "name 'mylist' is not defined",
     "output_type": "error",
     "traceback": [
      "\u001b[1;31m---------------------------------------------------------------------------\u001b[0m",
      "\u001b[1;31mNameError\u001b[0m                                 Traceback (most recent call last)",
      "\u001b[1;32mC:\\Users\\MONALI~1.DHA\\AppData\\Local\\Temp/ipykernel_17756/1887855273.py\u001b[0m in \u001b[0;36m<module>\u001b[1;34m\u001b[0m\n\u001b[1;32m----> 1\u001b[1;33m \u001b[0mmylist\u001b[0m\u001b[1;33m(\u001b[0m\u001b[0md\u001b[0m\u001b[1;33m)\u001b[0m\u001b[1;33m\u001b[0m\u001b[1;33m\u001b[0m\u001b[0m\n\u001b[0m",
      "\u001b[1;31mNameError\u001b[0m: name 'mylist' is not defined"
     ]
    }
   ],
   "source": [
    "mylist(d)"
   ]
  },
  {
   "cell_type": "code",
   "execution_count": null,
   "id": "922461c2",
   "metadata": {},
   "outputs": [],
   "source": []
  }
 ],
 "metadata": {
  "kernelspec": {
   "display_name": "Python 3 (ipykernel)",
   "language": "python",
   "name": "python3"
  },
  "language_info": {
   "codemirror_mode": {
    "name": "ipython",
    "version": 3
   },
   "file_extension": ".py",
   "mimetype": "text/x-python",
   "name": "python",
   "nbconvert_exporter": "python",
   "pygments_lexer": "ipython3",
   "version": "3.9.7"
  }
 },
 "nbformat": 4,
 "nbformat_minor": 5
}
