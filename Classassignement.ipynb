{
 "cells": [
  {
   "cell_type": "code",
   "execution_count": 5,
   "id": "399354d4",
   "metadata": {},
   "outputs": [],
   "source": [
    "##you have to write a fun which will take string and return a len of it without using a inbuilt fun len##\n",
    "def mylen():\n",
    "    \"\"\"this is custom code to find the length of the string without using LEN function\"\"\"\n",
    "    str = input(\"Enter a string: \")\n",
    "    c = 0\n",
    "    for s in str:\n",
    "        c = c+1\n",
    "    return (\"Length of the input string is:\", c)"
   ]
  },
  {
   "cell_type": "code",
   "execution_count": 2,
   "id": "5901a701",
   "metadata": {},
   "outputs": [
    {
     "name": "stdout",
     "output_type": "stream",
     "text": [
      "Enter a string: this is new function\n"
     ]
    },
    {
     "data": {
      "text/plain": [
       "('Length of the input string is:', 20)"
      ]
     },
     "execution_count": 2,
     "metadata": {},
     "output_type": "execute_result"
    }
   ],
   "source": [
    "mylen()"
   ]
  },
  {
   "cell_type": "code",
   "execution_count": 15,
   "id": "359d03b7",
   "metadata": {},
   "outputs": [],
   "source": [
    "##write a fun which will be able to print an index of all premitive element which you will pass ##\n",
    "def ele(l):\n",
    "    i=0\n",
    "    items=0\n",
    "    if type(l) == str or type(l) == tuple or type(l) == dict or type(l) == list or type(l) == set:\n",
    "        while i < list(len(items)):\n",
    "            return i, i[index]\n",
    "            i += 1"
   ]
  },
  {
   "cell_type": "code",
   "execution_count": 16,
   "id": "c3da59ce",
   "metadata": {},
   "outputs": [],
   "source": [
    "l=[1,2,3,4,5]"
   ]
  },
  {
   "cell_type": "code",
   "execution_count": null,
   "id": "05e50ac4",
   "metadata": {},
   "outputs": [],
   "source": [
    "def element(l):\n",
    "    index = 0\n",
    "    my_list = ['A', 'B', 'C', 'D', 'E', 'F']\n",
    "    print(\"The index of element C is \", my_list.index('C'))\n",
    "    print(\"The index of element F is \", my_list.index('F'))\n",
    "    "
   ]
  },
  {
   "cell_type": "code",
   "execution_count": 26,
   "id": "e2097247",
   "metadata": {},
   "outputs": [],
   "source": [
    "###Write a fun which will take input as a dict and give me out as a list of all the values###\n",
    "def passdict(d):\n",
    "    \"\"\"this function is used to take input as dict and output as list\"\"\"\n",
    "    l1 = []\n",
    "    l2 = []\n",
    "    for i in d:\n",
    "        k = (i, d[i])\n",
    "        l1.append(k)\n",
    "        l1 = list(d.items())\n",
    "    return l1,l2"
   ]
  },
  {
   "cell_type": "code",
   "execution_count": 36,
   "id": "8182c511",
   "metadata": {},
   "outputs": [],
   "source": [
    "d = {'Dict1': {\"a\":123,\"b\":\"newname\",\"c\":[1,3,5,6,6],\"a1\":\"mona\", \"x1\":45, \"t\":[1,2,3,4,5,6]},\n",
    "     'Dict2': {\"name\": \"Bob\", \"age\": 25}}"
   ]
  },
  {
   "cell_type": "code",
   "execution_count": 41,
   "id": "3c295ef7",
   "metadata": {},
   "outputs": [
    {
     "ename": "AttributeError",
     "evalue": "'dict' object has no attribute 'i'",
     "output_type": "error",
     "traceback": [
      "\u001b[1;31m---------------------------------------------------------------------------\u001b[0m",
      "\u001b[1;31mAttributeError\u001b[0m                            Traceback (most recent call last)",
      "\u001b[1;32mC:\\Users\\MONALI~1.DHA\\AppData\\Local\\Temp/ipykernel_14076/478285486.py\u001b[0m in \u001b[0;36m<module>\u001b[1;34m\u001b[0m\n\u001b[1;32m----> 1\u001b[1;33m \u001b[0mpassdict\u001b[0m\u001b[1;33m(\u001b[0m\u001b[0md\u001b[0m\u001b[1;33m)\u001b[0m\u001b[1;33m\u001b[0m\u001b[1;33m\u001b[0m\u001b[0m\n\u001b[0m",
      "\u001b[1;32mC:\\Users\\MONALI~1.DHA\\AppData\\Local\\Temp/ipykernel_14076/382617657.py\u001b[0m in \u001b[0;36mpassdict\u001b[1;34m(d1)\u001b[0m\n\u001b[0;32m      2\u001b[0m    \u001b[0ml1\u001b[0m \u001b[1;33m=\u001b[0m \u001b[1;33m[\u001b[0m\u001b[1;33m]\u001b[0m\u001b[1;33m\u001b[0m\u001b[1;33m\u001b[0m\u001b[0m\n\u001b[0;32m      3\u001b[0m    \u001b[0mi\u001b[0m \u001b[1;33m=\u001b[0m \u001b[1;36m0\u001b[0m\u001b[1;33m\u001b[0m\u001b[1;33m\u001b[0m\u001b[0m\n\u001b[1;32m----> 4\u001b[1;33m    \u001b[1;32mfor\u001b[0m \u001b[0mkey\u001b[0m\u001b[1;33m,\u001b[0m \u001b[0mvalue\u001b[0m \u001b[1;32min\u001b[0m \u001b[0md1\u001b[0m\u001b[1;33m.\u001b[0m\u001b[0mi\u001b[0m\u001b[1;33m(\u001b[0m\u001b[1;33m)\u001b[0m\u001b[1;33m:\u001b[0m\u001b[1;33m\u001b[0m\u001b[1;33m\u001b[0m\u001b[0m\n\u001b[0m\u001b[0;32m      5\u001b[0m        \u001b[0ml1\u001b[0m\u001b[1;33m.\u001b[0m\u001b[0mappend\u001b[0m\u001b[1;33m(\u001b[0m\u001b[0mkey\u001b[0m\u001b[1;33m)\u001b[0m\u001b[1;33m\u001b[0m\u001b[1;33m\u001b[0m\u001b[0m\n\u001b[0;32m      6\u001b[0m        \u001b[0ml1\u001b[0m\u001b[1;33m.\u001b[0m\u001b[0mextend\u001b[0m\u001b[1;33m(\u001b[0m\u001b[0mg1\u001b[0m\u001b[1;33m(\u001b[0m\u001b[0mvalue\u001b[0m\u001b[1;33m)\u001b[0m\u001b[1;33m)\u001b[0m\u001b[1;33m\u001b[0m\u001b[1;33m\u001b[0m\u001b[0m\n",
      "\u001b[1;31mAttributeError\u001b[0m: 'dict' object has no attribute 'i'"
     ]
    }
   ],
   "source": [
    "passdict(d)"
   ]
  },
  {
   "cell_type": "code",
   "execution_count": 40,
   "id": "006c2cd8",
   "metadata": {},
   "outputs": [],
   "source": [
    " def passdict(d1):\n",
    "    l1 = []\n",
    "    for key, value in d1.i():\n",
    "        l1.append(key)\n",
    "        l1.extend(g1(value))\n",
    "    return l1"
   ]
  },
  {
   "cell_type": "code",
   "execution_count": 2,
   "id": "07da0091",
   "metadata": {},
   "outputs": [
    {
     "name": "stdout",
     "output_type": "stream",
     "text": [
      "125\n"
     ]
    }
   ],
   "source": [
    "##write a fun which will take another function as an input and return me an output##\n",
    "def find_power(num):  \n",
    "    \"\"\"finding the power of a number\"\"\"\n",
    "\n",
    "    def power(n):\n",
    "        return num ** n\n",
    "\n",
    "    return power(3) \n",
    "\n",
    "print(find_power(5))"
   ]
  },
  {
   "cell_type": "code",
   "execution_count": 7,
   "id": "bb411525",
   "metadata": {},
   "outputs": [],
   "source": [
    "##concantenate the list##\n",
    "def comblist(n1,n2):\n",
    "    \"\"\"concantenate the list\"\"\"\n",
    "    n1 = input(\"Enter multiple numbers space-separated n1:- \")\n",
    "    n2 = input(\"Enter multiple numbers space-separated n2:- \")\n",
    "    n1 = list(map(int, n1.split()))\n",
    "    n2 = list(map(int, n2.split()))\n",
    "    n3 = n1 + n2\n",
    "    type(n3)\n",
    "    return (\"combined list is : \", n3)"
   ]
  },
  {
   "cell_type": "code",
   "execution_count": 8,
   "id": "83f806ca",
   "metadata": {},
   "outputs": [
    {
     "name": "stdout",
     "output_type": "stream",
     "text": [
      "Enter multiple numbers space-separated n1:- 1 2 3 45 6\n",
      "Enter multiple numbers space-separated n2:- 1 33 4  56 6 7 8\n"
     ]
    },
    {
     "data": {
      "text/plain": [
       "('combined list is : ', [1, 2, 3, 45, 6, 1, 33, 4, 56, 6, 7, 8])"
      ]
     },
     "execution_count": 8,
     "metadata": {},
     "output_type": "execute_result"
    }
   ],
   "source": [
    "comblist(2,3)"
   ]
  },
  {
   "cell_type": "code",
   "execution_count": 12,
   "id": "ed44eec4",
   "metadata": {},
   "outputs": [],
   "source": [
    "##Index of the elemnets in the list##\n",
    "def indices(l, val):\n",
    "    \"\"\"Returns a list containing the indices of val in the_list\"\"\"\n",
    "    rval = []\n",
    "    last = 0\n",
    "    while val in l[last:]:\n",
    "            i = l[last:].index(val)\n",
    "            rval.append(last + i)\n",
    "            last += i + 1   \n",
    "    return rval"
   ]
  },
  {
   "cell_type": "code",
   "execution_count": 23,
   "id": "ae2d203e",
   "metadata": {},
   "outputs": [
    {
     "name": "stdout",
     "output_type": "stream",
     "text": [
      "[2]\n",
      "[1]\n",
      "[5, 7]\n"
     ]
    }
   ],
   "source": [
    "l = ['MONA','food','mona','xyz','newbie','test1','test11','test1']\n",
    "q = 'mona'\n",
    "print (indices(l,q))\n",
    "print (indices(l,'food'))\n",
    "print (indices(l,'test1'))"
   ]
  },
  {
   "cell_type": "code",
   "execution_count": 3,
   "id": "0729e540",
   "metadata": {},
   "outputs": [
    {
     "name": "stdout",
     "output_type": "stream",
     "text": [
      "C:/Users/monalisha.dhal/Desktop/Python Assignments\\Assignement1.txt\n",
      "C:/Users/monalisha.dhal/Desktop/Python Assignments\\Assignement2.txt\n",
      "C:/Users/monalisha.dhal/Desktop/Python Assignments\\Assignment1.txt\n",
      "C:/Users/monalisha.dhal/Desktop/Python Assignments\\Assignment3.txt\n",
      "C:/Users/monalisha.dhal/Desktop/Python Assignments\\Linux123.pem\n",
      "C:/Users/monalisha.dhal/Desktop/Python Assignments\\Linuxkey.ppk\n",
      "C:/Users/monalisha.dhal/Desktop/Python Assignments\\putty (1).exe\n",
      "C:/Users/monalisha.dhal/Desktop/Python Assignments\\puttygen.exe\n",
      "****************\n",
      "C:/Users/monalisha.dhal/Desktop/Python Assignments\\Assignement1.txt\n",
      "C:/Users/monalisha.dhal/Desktop/Python Assignments\\Assignement2.txt\n",
      "C:/Users/monalisha.dhal/Desktop/Python Assignments\\Assignment1.txt\n",
      "C:/Users/monalisha.dhal/Desktop/Python Assignments\\Assignment3.txt\n",
      "C:/Users/monalisha.dhal/Desktop/Python Assignments\\Linux123.pem\n",
      "C:/Users/monalisha.dhal/Desktop/Python Assignments\\Linuxkey.ppk\n",
      "C:/Users/monalisha.dhal/Desktop/Python Assignments\\putty (1).exe\n",
      "C:/Users/monalisha.dhal/Desktop/Python Assignments\\puttygen.exe\n"
     ]
    }
   ],
   "source": [
    "import os\n",
    "\n",
    "def getListOfFiles(dirName):\n",
    "    \n",
    "    \"\"\"To get the List of all files in the directory\"\"\"\n",
    "    \n",
    "    listOfFile = os.listdir(dirName)\n",
    "    allFiles = list()\n",
    "    \n",
    "    for entry in listOfFile:\n",
    "        \n",
    "        fullPath = os.path.join(dirName, entry)\n",
    "        \n",
    "        if os.path.isdir(fullPath):\n",
    "            allFiles = allFiles + getListOfFiles(fullPath)\n",
    "        else:\n",
    "            allFiles.append(fullPath)\n",
    "                \n",
    "    return allFiles\n",
    "def main():\n",
    "    \n",
    "    dirName = 'C:/Users/monalisha.dhal/Desktop/Python Assignments';\n",
    "    listOfFiles = getListOfFiles(dirName)\n",
    "    \n",
    "    \n",
    "    for elem in listOfFiles:\n",
    "        print(elem)\n",
    "    print (\"****************\")\n",
    "    listOfFiles = list()\n",
    "    for (dirpath, dirnames, filenames) in os.walk(dirName):\n",
    "        listOfFiles += [os.path.join(dirpath, file) for file in filenames]\n",
    "        \n",
    "        \n",
    "       \n",
    "    for elem in listOfFiles:\n",
    "        print(elem)    \n",
    "        \n",
    "        \n",
    "        \n",
    "        \n",
    "if __name__ == '__main__':\n",
    "    main()\n"
   ]
  },
  {
   "cell_type": "code",
   "execution_count": 1,
   "id": "71731905",
   "metadata": {},
   "outputs": [],
   "source": [
    "from datetime import datetime as dt\n",
    "\n",
    "\n",
    "def timeown():\n",
    "    \"\"\"show date and time\"\"\"\n",
    "    todays_date = datetime.now()\n",
    "    dt_object = dt.now()\n",
    "    current_day = dt.now() \n",
    "    current_month = dt.now()\n",
    "    current_yr = dt.now()\n",
    "    \n",
    "    \n",
    "    print (\"Day : \", end = \"\") \n",
    "    print (current_day.day) \n",
    "    print (\"Month : \", end = \"\") \n",
    "    print (current_month.month) \n",
    "    print (\"Year : \", end = \"\") \n",
    "    print (current_yr.year)\n",
    "    print('Hour: ', todays_date.hour)\n",
    "    print('Minute: ', todays_date.minute)\n",
    "    return(\"todays date and time is :\", current_day.day,current_month.month, current_yr.year,todays_date.hour,todays_date.minute )\n",
    "   \n",
    "\n"
   ]
  },
  {
   "cell_type": "code",
   "execution_count": 63,
   "id": "247bd6a3",
   "metadata": {},
   "outputs": [
    {
     "name": "stdout",
     "output_type": "stream",
     "text": [
      "Day : 6\n",
      "Month : 1\n",
      "Year : 2022\n",
      "Hour:  12\n",
      "Minute:  32\n"
     ]
    },
    {
     "data": {
      "text/plain": [
       "('todays date and time is :', 6, 1, 2022, 12, 32)"
      ]
     },
     "execution_count": 63,
     "metadata": {},
     "output_type": "execute_result"
    }
   ],
   "source": [
    "timeown()"
   ]
  },
  {
   "cell_type": "code",
   "execution_count": 11,
   "id": "128f11d3",
   "metadata": {},
   "outputs": [
    {
     "ename": "FileNotFoundError",
     "evalue": "[Errno 2] No such file or directory: 'lena_gray.raw'",
     "output_type": "error",
     "traceback": [
      "\u001b[1;31m---------------------------------------------------------------------------\u001b[0m",
      "\u001b[1;31mFileNotFoundError\u001b[0m                         Traceback (most recent call last)",
      "\u001b[1;32mC:\\Users\\MONALI~1.DHA\\AppData\\Local\\Temp/ipykernel_28968/1500790135.py\u001b[0m in \u001b[0;36m<module>\u001b[1;34m\u001b[0m\n\u001b[0;32m      2\u001b[0m \u001b[0mROWS\u001b[0m \u001b[1;33m=\u001b[0m \u001b[1;36m512\u001b[0m\u001b[1;33m\u001b[0m\u001b[1;33m\u001b[0m\u001b[0m\n\u001b[0;32m      3\u001b[0m \u001b[0mCOLS\u001b[0m \u001b[1;33m=\u001b[0m  \u001b[1;36m512\u001b[0m\u001b[1;33m\u001b[0m\u001b[1;33m\u001b[0m\u001b[0m\n\u001b[1;32m----> 4\u001b[1;33m \u001b[0mfin\u001b[0m \u001b[1;33m=\u001b[0m \u001b[0mopen\u001b[0m\u001b[1;33m(\u001b[0m\u001b[1;34mr\"lena_gray.raw\"\u001b[0m\u001b[1;33m)\u001b[0m\u001b[1;33m\u001b[0m\u001b[1;33m\u001b[0m\u001b[0m\n\u001b[0m\u001b[0;32m      5\u001b[0m \u001b[0mprint\u001b[0m\u001b[1;33m(\u001b[0m\u001b[0mfin\u001b[0m\u001b[1;33m)\u001b[0m\u001b[1;33m\u001b[0m\u001b[1;33m\u001b[0m\u001b[0m\n\u001b[0;32m      6\u001b[0m \u001b[0mprint\u001b[0m\u001b[1;33m(\u001b[0m\u001b[1;34m\"... Load input image\"\u001b[0m\u001b[1;33m)\u001b[0m\u001b[1;33m\u001b[0m\u001b[1;33m\u001b[0m\u001b[0m\n",
      "\u001b[1;31mFileNotFoundError\u001b[0m: [Errno 2] No such file or directory: 'lena_gray.raw'"
     ]
    }
   ],
   "source": [
    "import numpy as np\n",
    "ROWS = 512    \n",
    "COLS =  512\n",
    "fin = open(r\"lena_gray.raw\")     \n",
    "print(fin)\n",
    "print(\"... Load input image\")\n",
    "img = np.fromfile(fin, dtype = np.uint8, count = ROWS * COLS)\n",
    "print(\"Dimension of the old image array: \", img.ndim)\n",
    "print(\"Size of the old image array: \", img.size)\n",
    "img.shape = (img.size )\n",
    "print(\"New dimension of the array:\", img.ndim)\n",
    "print(\"----------------------------------------------------\")\n",
    "print(\" The 2D array of the original image is: \\n\", img)\n",
    "print(\"----------------------------------------------------\")\n",
    "print(\"The shape of the original image array is: \", img.shape)\n",
    "# Save the output image\n",
    "print(\"... Save the output image\")\n",
    "img.astype('int8').tofile('NewImage.raw')\n",
    "print(\"... File successfully saved\")\n",
    "# Closing the file\n",
    "fin.close()"
   ]
  },
  {
   "cell_type": "code",
   "execution_count": null,
   "id": "e45645a1",
   "metadata": {},
   "outputs": [],
   "source": []
  }
 ],
 "metadata": {
  "kernelspec": {
   "display_name": "Python 3 (ipykernel)",
   "language": "python",
   "name": "python3"
  },
  "language_info": {
   "codemirror_mode": {
    "name": "ipython",
    "version": 3
   },
   "file_extension": ".py",
   "mimetype": "text/x-python",
   "name": "python",
   "nbconvert_exporter": "python",
   "pygments_lexer": "ipython3",
   "version": "3.9.7"
  }
 },
 "nbformat": 4,
 "nbformat_minor": 5
}
