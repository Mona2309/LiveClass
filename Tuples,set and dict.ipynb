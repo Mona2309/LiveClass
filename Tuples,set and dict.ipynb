{
 "cells": [
  {
   "cell_type": "code",
   "execution_count": 1,
   "id": "b10a9b03",
   "metadata": {},
   "outputs": [
    {
     "name": "stdout",
     "output_type": "stream",
     "text": [
      "hello world\n"
     ]
    }
   ],
   "source": [
    "print('hello world')"
   ]
  },
  {
   "cell_type": "code",
   "execution_count": 4,
   "id": "53b1a019",
   "metadata": {},
   "outputs": [],
   "source": [
    "t1=(\"mona\", 23 , 23.90 , 45+5j ,True)"
   ]
  },
  {
   "cell_type": "code",
   "execution_count": 5,
   "id": "0f4f4f4f",
   "metadata": {},
   "outputs": [
    {
     "data": {
      "text/plain": [
       "tuple"
      ]
     },
     "execution_count": 5,
     "metadata": {},
     "output_type": "execute_result"
    }
   ],
   "source": [
    "type(t1)"
   ]
  },
  {
   "cell_type": "code",
   "execution_count": 6,
   "id": "f06f948c",
   "metadata": {},
   "outputs": [],
   "source": [
    "l= [\"mona\", 23 , 23.90 , 45+5j ,True]"
   ]
  },
  {
   "cell_type": "code",
   "execution_count": 7,
   "id": "4931d4cb",
   "metadata": {},
   "outputs": [
    {
     "data": {
      "text/plain": [
       "list"
      ]
     },
     "execution_count": 7,
     "metadata": {},
     "output_type": "execute_result"
    }
   ],
   "source": [
    "type(l)"
   ]
  },
  {
   "cell_type": "code",
   "execution_count": 8,
   "id": "3c39be1a",
   "metadata": {},
   "outputs": [
    {
     "data": {
      "text/plain": [
       "('mona', 23, 23.9)"
      ]
     },
     "execution_count": 8,
     "metadata": {},
     "output_type": "execute_result"
    }
   ],
   "source": [
    "t1[0:3]"
   ]
  },
  {
   "cell_type": "code",
   "execution_count": 9,
   "id": "d43bc16e",
   "metadata": {},
   "outputs": [
    {
     "data": {
      "text/plain": [
       "(True, (45+5j), 23.9, 23, 'mona')"
      ]
     },
     "execution_count": 9,
     "metadata": {},
     "output_type": "execute_result"
    }
   ],
   "source": [
    "t1[::-1]"
   ]
  },
  {
   "cell_type": "code",
   "execution_count": 10,
   "id": "e01065fe",
   "metadata": {},
   "outputs": [
    {
     "data": {
      "text/plain": [
       "('mona', 23.9, True)"
      ]
     },
     "execution_count": 10,
     "metadata": {},
     "output_type": "execute_result"
    }
   ],
   "source": [
    "t1[0::2]"
   ]
  },
  {
   "cell_type": "code",
   "execution_count": 11,
   "id": "23160da6",
   "metadata": {},
   "outputs": [],
   "source": [
    "l1=[1,2,3,4]"
   ]
  },
  {
   "cell_type": "code",
   "execution_count": 14,
   "id": "17327878",
   "metadata": {},
   "outputs": [],
   "source": [
    "l[0]=\"kumar\""
   ]
  },
  {
   "cell_type": "code",
   "execution_count": 15,
   "id": "7cd73be1",
   "metadata": {},
   "outputs": [
    {
     "data": {
      "text/plain": [
       "['kumar', 23, 23.9, (45+5j), True]"
      ]
     },
     "execution_count": 15,
     "metadata": {},
     "output_type": "execute_result"
    }
   ],
   "source": [
    "l"
   ]
  },
  {
   "cell_type": "code",
   "execution_count": 16,
   "id": "ec62d4b2",
   "metadata": {},
   "outputs": [
    {
     "data": {
      "text/plain": [
       "('mona', 23, 23.9, (45+5j), True)"
      ]
     },
     "execution_count": 16,
     "metadata": {},
     "output_type": "execute_result"
    }
   ],
   "source": [
    "t1"
   ]
  },
  {
   "cell_type": "code",
   "execution_count": 18,
   "id": "913748d3",
   "metadata": {},
   "outputs": [],
   "source": [
    "t2=('mona',2,3,4,5)"
   ]
  },
  {
   "cell_type": "code",
   "execution_count": 19,
   "id": "143fc03d",
   "metadata": {
    "scrolled": true
   },
   "outputs": [
    {
     "data": {
      "text/plain": [
       "('mona', 23, 23.9, (45+5j), True, 'mona', 2, 3, 4, 5)"
      ]
     },
     "execution_count": 19,
     "metadata": {},
     "output_type": "execute_result"
    }
   ],
   "source": [
    "t1+t2"
   ]
  },
  {
   "cell_type": "code",
   "execution_count": 20,
   "id": "b81183f9",
   "metadata": {},
   "outputs": [
    {
     "data": {
      "text/plain": [
       "('mona', 23, 23.9, (45+5j), True, 'mona', 23, 23.9, (45+5j), True)"
      ]
     },
     "execution_count": 20,
     "metadata": {},
     "output_type": "execute_result"
    }
   ],
   "source": [
    "t1*2"
   ]
  },
  {
   "cell_type": "code",
   "execution_count": 22,
   "id": "12917987",
   "metadata": {},
   "outputs": [
    {
     "data": {
      "text/plain": [
       "1"
      ]
     },
     "execution_count": 22,
     "metadata": {},
     "output_type": "execute_result"
    }
   ],
   "source": [
    "t1.count(\"mona\")"
   ]
  },
  {
   "cell_type": "code",
   "execution_count": 23,
   "id": "71c36d60",
   "metadata": {},
   "outputs": [
    {
     "data": {
      "text/plain": [
       "3"
      ]
     },
     "execution_count": 23,
     "metadata": {},
     "output_type": "execute_result"
    }
   ],
   "source": [
    "t1.index(45+5j)"
   ]
  },
  {
   "cell_type": "code",
   "execution_count": 24,
   "id": "220cbd29",
   "metadata": {},
   "outputs": [],
   "source": [
    "t21=(1,2,3,4,(1,23),(\"mona\"))"
   ]
  },
  {
   "cell_type": "code",
   "execution_count": 25,
   "id": "46e0df36",
   "metadata": {},
   "outputs": [
    {
     "data": {
      "text/plain": [
       "(1, 2, 3, 4, (1, 23), 'mona')"
      ]
     },
     "execution_count": 25,
     "metadata": {},
     "output_type": "execute_result"
    }
   ],
   "source": [
    "t21"
   ]
  },
  {
   "cell_type": "code",
   "execution_count": 26,
   "id": "fbf9ca3a",
   "metadata": {},
   "outputs": [],
   "source": [
    "l= [1,2,3,(\"mona\"),(38574, \"sd\")]"
   ]
  },
  {
   "cell_type": "code",
   "execution_count": 27,
   "id": "f534795c",
   "metadata": {},
   "outputs": [
    {
     "data": {
      "text/plain": [
       "[1, 2, 3, 'mona', (38574, 'sd')]"
      ]
     },
     "execution_count": 27,
     "metadata": {},
     "output_type": "execute_result"
    }
   ],
   "source": [
    "l"
   ]
  },
  {
   "cell_type": "code",
   "execution_count": 28,
   "id": "fa1b6232",
   "metadata": {},
   "outputs": [
    {
     "data": {
      "text/plain": [
       "list"
      ]
     },
     "execution_count": 28,
     "metadata": {},
     "output_type": "execute_result"
    }
   ],
   "source": [
    "type(l)"
   ]
  },
  {
   "cell_type": "code",
   "execution_count": 31,
   "id": "952b180a",
   "metadata": {},
   "outputs": [],
   "source": [
    "t11=([3,4,54,6],(\"sd\",435,56),\"usdh\")"
   ]
  },
  {
   "cell_type": "code",
   "execution_count": 36,
   "id": "0015e004",
   "metadata": {},
   "outputs": [],
   "source": [
    "t11[0][2]=\"tiger\""
   ]
  },
  {
   "cell_type": "code",
   "execution_count": 37,
   "id": "005e6da7",
   "metadata": {},
   "outputs": [
    {
     "data": {
      "text/plain": [
       "([3, 4, 'tiger', 6], ('sd', 435, 56), 'usdh')"
      ]
     },
     "execution_count": 37,
     "metadata": {},
     "output_type": "execute_result"
    }
   ],
   "source": [
    "t11"
   ]
  },
  {
   "cell_type": "code",
   "execution_count": 38,
   "id": "d0d9fe46",
   "metadata": {},
   "outputs": [],
   "source": [
    "l=[1,2,3,4,5,2,34,3,5,67,1,1,3,5,6,7,2,3,4,5,6,8,9,0,3,4,5,6]"
   ]
  },
  {
   "cell_type": "code",
   "execution_count": 39,
   "id": "8324aa02",
   "metadata": {},
   "outputs": [
    {
     "data": {
      "text/plain": [
       "{0, 1, 2, 3, 4, 5, 6, 7, 8, 9, 34, 67}"
      ]
     },
     "execution_count": 39,
     "metadata": {},
     "output_type": "execute_result"
    }
   ],
   "source": [
    "set(l)"
   ]
  },
  {
   "cell_type": "code",
   "execution_count": 40,
   "id": "1e2829d6",
   "metadata": {},
   "outputs": [],
   "source": [
    "s={}"
   ]
  },
  {
   "cell_type": "code",
   "execution_count": 41,
   "id": "7fe253ed",
   "metadata": {},
   "outputs": [
    {
     "data": {
      "text/plain": [
       "dict"
      ]
     },
     "execution_count": 41,
     "metadata": {},
     "output_type": "execute_result"
    }
   ],
   "source": [
    "type(s)"
   ]
  },
  {
   "cell_type": "code",
   "execution_count": 42,
   "id": "51762d99",
   "metadata": {},
   "outputs": [],
   "source": [
    "s1={1,2,3,4}"
   ]
  },
  {
   "cell_type": "markdown",
   "id": "722d70e4",
   "metadata": {},
   "source": [
    "s2={2,2,3,45,2,3,45,6,7,8,2,3,4,5,6,3}"
   ]
  },
  {
   "cell_type": "code",
   "execution_count": 44,
   "id": "af06c7db",
   "metadata": {},
   "outputs": [],
   "source": [
    "s2={2,2,3,45,2,3,45,6,7,8,2,3,4,5,6,3}"
   ]
  },
  {
   "cell_type": "code",
   "execution_count": 45,
   "id": "900b1fe6",
   "metadata": {},
   "outputs": [
    {
     "data": {
      "text/plain": [
       "{2, 3, 4, 5, 6, 7, 8, 45}"
      ]
     },
     "execution_count": 45,
     "metadata": {},
     "output_type": "execute_result"
    }
   ],
   "source": [
    "set(s2)"
   ]
  },
  {
   "cell_type": "code",
   "execution_count": 48,
   "id": "6d35b773",
   "metadata": {},
   "outputs": [],
   "source": [
    "s1=list(s1)"
   ]
  },
  {
   "cell_type": "code",
   "execution_count": 49,
   "id": "21a29d46",
   "metadata": {},
   "outputs": [
    {
     "data": {
      "text/plain": [
       "1"
      ]
     },
     "execution_count": 49,
     "metadata": {},
     "output_type": "execute_result"
    }
   ],
   "source": [
    "s1[0]"
   ]
  },
  {
   "cell_type": "code",
   "execution_count": 50,
   "id": "53b84913",
   "metadata": {},
   "outputs": [
    {
     "data": {
      "text/plain": [
       "[1, 2, 3, 4]"
      ]
     },
     "execution_count": 50,
     "metadata": {},
     "output_type": "execute_result"
    }
   ],
   "source": [
    "s1"
   ]
  },
  {
   "cell_type": "code",
   "execution_count": 57,
   "id": "24e994fb",
   "metadata": {},
   "outputs": [
    {
     "data": {
      "text/plain": [
       "{(2, 3, 4, 5), 2, 3, 4, 5, 6}"
      ]
     },
     "execution_count": 57,
     "metadata": {},
     "output_type": "execute_result"
    }
   ],
   "source": [
    "{(2,3,4,5),(2,3,4,5),2,3,4,5,6}"
   ]
  },
  {
   "cell_type": "code",
   "execution_count": 52,
   "id": "d2c79423",
   "metadata": {},
   "outputs": [
    {
     "data": {
      "text/plain": [
       "{2, 3, 4, 45, 5, 6, 7, 8, 'mona'}"
      ]
     },
     "execution_count": 52,
     "metadata": {},
     "output_type": "execute_result"
    }
   ],
   "source": [
    "s2"
   ]
  },
  {
   "cell_type": "code",
   "execution_count": 59,
   "id": "e1ebd135",
   "metadata": {},
   "outputs": [],
   "source": [
    "s2={(2, 3, 4, 5), 2, 3, 4, 5, 6}"
   ]
  },
  {
   "cell_type": "code",
   "execution_count": 60,
   "id": "cffea0cc",
   "metadata": {},
   "outputs": [],
   "source": [
    "s2.remove(4)"
   ]
  },
  {
   "cell_type": "code",
   "execution_count": 61,
   "id": "b5e5e5ff",
   "metadata": {},
   "outputs": [
    {
     "data": {
      "text/plain": [
       "{(2, 3, 4, 5), 2, 3, 5, 6}"
      ]
     },
     "execution_count": 61,
     "metadata": {},
     "output_type": "execute_result"
    }
   ],
   "source": [
    "s2"
   ]
  },
  {
   "cell_type": "code",
   "execution_count": 62,
   "id": "3321016d",
   "metadata": {},
   "outputs": [],
   "source": [
    "s2.discard(5)"
   ]
  },
  {
   "cell_type": "code",
   "execution_count": 63,
   "id": "c9db4839",
   "metadata": {},
   "outputs": [
    {
     "data": {
      "text/plain": [
       "{(2, 3, 4, 5), 2, 3, 6}"
      ]
     },
     "execution_count": 63,
     "metadata": {},
     "output_type": "execute_result"
    }
   ],
   "source": [
    "s2"
   ]
  },
  {
   "cell_type": "code",
   "execution_count": 64,
   "id": "a8b90521",
   "metadata": {},
   "outputs": [
    {
     "data": {
      "text/plain": [
       "{(2, 3, 4, 5), 2, 3, 6}"
      ]
     },
     "execution_count": 64,
     "metadata": {},
     "output_type": "execute_result"
    }
   ],
   "source": [
    "s2"
   ]
  },
  {
   "cell_type": "code",
   "execution_count": 65,
   "id": "38f11c6f",
   "metadata": {},
   "outputs": [
    {
     "ename": "KeyError",
     "evalue": "45",
     "output_type": "error",
     "traceback": [
      "\u001b[1;31m---------------------------------------------------------------------------\u001b[0m",
      "\u001b[1;31mKeyError\u001b[0m                                  Traceback (most recent call last)",
      "\u001b[1;32mC:\\Users\\MONALI~1.DHA\\AppData\\Local\\Temp/ipykernel_10768/527608268.py\u001b[0m in \u001b[0;36m<module>\u001b[1;34m\u001b[0m\n\u001b[1;32m----> 1\u001b[1;33m \u001b[0ms2\u001b[0m\u001b[1;33m.\u001b[0m\u001b[0mremove\u001b[0m\u001b[1;33m(\u001b[0m\u001b[1;36m45\u001b[0m\u001b[1;33m)\u001b[0m\u001b[1;33m\u001b[0m\u001b[1;33m\u001b[0m\u001b[0m\n\u001b[0m",
      "\u001b[1;31mKeyError\u001b[0m: 45"
     ]
    }
   ],
   "source": [
    "s2.remove(45)"
   ]
  },
  {
   "cell_type": "code",
   "execution_count": 66,
   "id": "058504f7",
   "metadata": {},
   "outputs": [],
   "source": [
    "s2.discard(45)"
   ]
  },
  {
   "cell_type": "code",
   "execution_count": 67,
   "id": "a7428314",
   "metadata": {},
   "outputs": [
    {
     "data": {
      "text/plain": [
       "{(2, 3, 4, 5), 2, 3, 6}"
      ]
     },
     "execution_count": 67,
     "metadata": {},
     "output_type": "execute_result"
    }
   ],
   "source": [
    "s2"
   ]
  },
  {
   "cell_type": "code",
   "execution_count": 69,
   "id": "eb583e83",
   "metadata": {},
   "outputs": [
    {
     "data": {
      "text/plain": [
       "{'Sudh', 'sudh'}"
      ]
     },
     "execution_count": 69,
     "metadata": {},
     "output_type": "execute_result"
    }
   ],
   "source": [
    "{\"sudh\",\"Sudh\"}"
   ]
  },
  {
   "cell_type": "code",
   "execution_count": 70,
   "id": "9e451998",
   "metadata": {},
   "outputs": [],
   "source": [
    "s2=set(s2)"
   ]
  },
  {
   "cell_type": "code",
   "execution_count": 71,
   "id": "157e63b2",
   "metadata": {},
   "outputs": [],
   "source": [
    "d={4:\"mona\"}"
   ]
  },
  {
   "cell_type": "code",
   "execution_count": 91,
   "id": "04a27e59",
   "metadata": {},
   "outputs": [],
   "source": [
    "d1={4:{12,3,4,5,6}, 4:\"XYZZ\",\"k3\":[1,2,4,5,6]}"
   ]
  },
  {
   "cell_type": "code",
   "execution_count": 73,
   "id": "8fc2be2e",
   "metadata": {},
   "outputs": [],
   "source": [
    "l=[3,4,5,6,7]"
   ]
  },
  {
   "cell_type": "code",
   "execution_count": 79,
   "id": "bfc3fd0c",
   "metadata": {},
   "outputs": [
    {
     "data": {
      "text/plain": [
       "5445"
      ]
     },
     "execution_count": 79,
     "metadata": {},
     "output_type": "execute_result"
    }
   ],
   "source": [
    "d1['k1']"
   ]
  },
  {
   "cell_type": "code",
   "execution_count": 87,
   "id": "090833c0",
   "metadata": {},
   "outputs": [
    {
     "ename": "SyntaxError",
     "evalue": "invalid syntax (Temp/ipykernel_10768/3191221021.py, line 1)",
     "output_type": "error",
     "traceback": [
      "\u001b[1;36m  File \u001b[1;32m\"C:\\Users\\MONALI~1.DHA\\AppData\\Local\\Temp/ipykernel_10768/3191221021.py\"\u001b[1;36m, line \u001b[1;32m1\u001b[0m\n\u001b[1;33m    d1.[4]\u001b[0m\n\u001b[1;37m       ^\u001b[0m\n\u001b[1;31mSyntaxError\u001b[0m\u001b[1;31m:\u001b[0m invalid syntax\n"
     ]
    }
   ],
   "source": [
    "d1.[4]\n"
   ]
  },
  {
   "cell_type": "code",
   "execution_count": 90,
   "id": "4de1bfc8",
   "metadata": {},
   "outputs": [
    {
     "data": {
      "text/plain": [
       "[1, 2, 4, 5, 6]"
      ]
     },
     "execution_count": 90,
     "metadata": {},
     "output_type": "execute_result"
    }
   ],
   "source": [
    "d1[\"k3\"]"
   ]
  },
  {
   "cell_type": "code",
   "execution_count": 112,
   "id": "8fe83a05",
   "metadata": {},
   "outputs": [],
   "source": [
    "d1={5:\"Peter\",\"mobnu\":9735474950,\"mail\":\"sggyd@dsjfief.com\", 'k1':[1,2,3,4,5,5],'k2':(3347,3,45,6),4:{2,3,5,6,7,7,8,5},'k4':{1:2,3:4}}"
   ]
  },
  {
   "cell_type": "code",
   "execution_count": 113,
   "id": "b78175aa",
   "metadata": {},
   "outputs": [
    {
     "data": {
      "text/plain": [
       "{5: 'Peter',\n",
       " 'mobnu': 9735474950,\n",
       " 'mail': 'sggyd@dsjfief.com',\n",
       " 'k1': [1, 2, 3, 4, 5, 5],\n",
       " 'k2': (3347, 3, 45, 6),\n",
       " 4: {2, 3, 5, 6, 7, 8},\n",
       " 'k4': {1: 2, 3: 4}}"
      ]
     },
     "execution_count": 113,
     "metadata": {},
     "output_type": "execute_result"
    }
   ],
   "source": [
    "d1"
   ]
  },
  {
   "cell_type": "code",
   "execution_count": 105,
   "id": "f992ed26",
   "metadata": {},
   "outputs": [
    {
     "data": {
      "text/plain": [
       "'Peter'"
      ]
     },
     "execution_count": 105,
     "metadata": {},
     "output_type": "execute_result"
    }
   ],
   "source": [
    "d[5]"
   ]
  },
  {
   "cell_type": "code",
   "execution_count": 97,
   "id": "6b3fd179",
   "metadata": {},
   "outputs": [
    {
     "data": {
      "text/plain": [
       "dict_keys(['name', 'mobnu', 'mail', 'k1', 'k2', 'k3', 'k4'])"
      ]
     },
     "execution_count": 97,
     "metadata": {},
     "output_type": "execute_result"
    }
   ],
   "source": [
    "d.keys()"
   ]
  },
  {
   "cell_type": "code",
   "execution_count": 98,
   "id": "c37911dc",
   "metadata": {},
   "outputs": [
    {
     "data": {
      "text/plain": [
       "dict_values(['Peter', 9735474950, 'sggyd@dsjfief.com', [1, 2, 3, 4, 5, 5], (3347, 3, 45, 6), {2, 3, 5, 6, 7, 8}, {1: 2, 3: 4}])"
      ]
     },
     "execution_count": 98,
     "metadata": {},
     "output_type": "execute_result"
    }
   ],
   "source": [
    "d.values()"
   ]
  },
  {
   "cell_type": "code",
   "execution_count": 99,
   "id": "79de4dd9",
   "metadata": {},
   "outputs": [
    {
     "data": {
      "text/plain": [
       "dict_items([('name', 'Peter'), ('mobnu', 9735474950), ('mail', 'sggyd@dsjfief.com'), ('k1', [1, 2, 3, 4, 5, 5]), ('k2', (3347, 3, 45, 6)), ('k3', {2, 3, 5, 6, 7, 8}), ('k4', {1: 2, 3: 4})])"
      ]
     },
     "execution_count": 99,
     "metadata": {},
     "output_type": "execute_result"
    }
   ],
   "source": [
    "d.items()"
   ]
  },
  {
   "cell_type": "code",
   "execution_count": 106,
   "id": "917f90fd",
   "metadata": {},
   "outputs": [],
   "source": [
    "d1[(1,2,3)]= \"qwhduhf\""
   ]
  },
  {
   "cell_type": "code",
   "execution_count": 107,
   "id": "655cf9e3",
   "metadata": {},
   "outputs": [
    {
     "data": {
      "text/plain": [
       "dict"
      ]
     },
     "execution_count": 107,
     "metadata": {},
     "output_type": "execute_result"
    }
   ],
   "source": [
    "type(d1)"
   ]
  },
  {
   "cell_type": "code",
   "execution_count": 117,
   "id": "870f07ee",
   "metadata": {},
   "outputs": [
    {
     "data": {
      "text/plain": [
       "[1, 2, 3, 4, 5, 5]"
      ]
     },
     "execution_count": 117,
     "metadata": {},
     "output_type": "execute_result"
    }
   ],
   "source": [
    "d1.get(\"k1\")"
   ]
  },
  {
   "cell_type": "code",
   "execution_count": 116,
   "id": "a7aa4a26",
   "metadata": {},
   "outputs": [],
   "source": [
    "d1={'k1':\"Peter\",\"mobnu\":9735474950,\"mail\":\"sggyd@dsjfief.com\", 'k1':[1,2,3,4,5,5],'k2':(3347,3,45,6),4:{2,3,5,6,7,7,8,5},'k4':{1:2,3:4}}"
   ]
  },
  {
   "cell_type": "code",
   "execution_count": 118,
   "id": "fa94c7e6",
   "metadata": {},
   "outputs": [],
   "source": [
    "d2={\"key6\":456,\"key9\":[1,2,3,4]}"
   ]
  },
  {
   "cell_type": "code",
   "execution_count": 119,
   "id": "1798d1a7",
   "metadata": {},
   "outputs": [],
   "source": [
    "d1.update(d2)"
   ]
  },
  {
   "cell_type": "code",
   "execution_count": 120,
   "id": "5b8eada2",
   "metadata": {},
   "outputs": [
    {
     "data": {
      "text/plain": [
       "{'k1': [1, 2, 3, 4, 5, 5],\n",
       " 'mobnu': 9735474950,\n",
       " 'mail': 'sggyd@dsjfief.com',\n",
       " 'k2': (3347, 3, 45, 6),\n",
       " 4: {2, 3, 5, 6, 7, 8},\n",
       " 'k4': {1: 2, 3: 4},\n",
       " 'key6': 456,\n",
       " 'key9': [1, 2, 3, 4]}"
      ]
     },
     "execution_count": 120,
     "metadata": {},
     "output_type": "execute_result"
    }
   ],
   "source": [
    "d1"
   ]
  },
  {
   "cell_type": "code",
   "execution_count": 121,
   "id": "db6d40f9",
   "metadata": {},
   "outputs": [
    {
     "data": {
      "text/plain": [
       "{'key6': 456, 'key9': [1, 2, 3, 4]}"
      ]
     },
     "execution_count": 121,
     "metadata": {},
     "output_type": "execute_result"
    }
   ],
   "source": [
    "d2"
   ]
  },
  {
   "cell_type": "code",
   "execution_count": 122,
   "id": "7ab1cab4",
   "metadata": {},
   "outputs": [
    {
     "ename": "TypeError",
     "evalue": "unsupported operand type(s) for +: 'dict' and 'dict'",
     "output_type": "error",
     "traceback": [
      "\u001b[1;31m---------------------------------------------------------------------------\u001b[0m",
      "\u001b[1;31mTypeError\u001b[0m                                 Traceback (most recent call last)",
      "\u001b[1;32mC:\\Users\\MONALI~1.DHA\\AppData\\Local\\Temp/ipykernel_10768/833095442.py\u001b[0m in \u001b[0;36m<module>\u001b[1;34m\u001b[0m\n\u001b[1;32m----> 1\u001b[1;33m \u001b[0md1\u001b[0m\u001b[1;33m+\u001b[0m\u001b[0md2\u001b[0m\u001b[1;33m\u001b[0m\u001b[1;33m\u001b[0m\u001b[0m\n\u001b[0m",
      "\u001b[1;31mTypeError\u001b[0m: unsupported operand type(s) for +: 'dict' and 'dict'"
     ]
    }
   ],
   "source": [
    "d1+d2"
   ]
  },
  {
   "cell_type": "code",
   "execution_count": 123,
   "id": "d9506355",
   "metadata": {},
   "outputs": [],
   "source": [
    "x, y= 0,1"
   ]
  },
  {
   "cell_type": "code",
   "execution_count": 124,
   "id": "d3c9e1c2",
   "metadata": {},
   "outputs": [
    {
     "data": {
      "text/plain": [
       "0"
      ]
     },
     "execution_count": 124,
     "metadata": {},
     "output_type": "execute_result"
    }
   ],
   "source": [
    "x"
   ]
  },
  {
   "cell_type": "code",
   "execution_count": 125,
   "id": "232ad15d",
   "metadata": {},
   "outputs": [
    {
     "data": {
      "text/plain": [
       "1"
      ]
     },
     "execution_count": 125,
     "metadata": {},
     "output_type": "execute_result"
    }
   ],
   "source": [
    "y"
   ]
  },
  {
   "cell_type": "code",
   "execution_count": 126,
   "id": "49f18784",
   "metadata": {},
   "outputs": [
    {
     "data": {
      "text/plain": [
       "0"
      ]
     },
     "execution_count": 126,
     "metadata": {},
     "output_type": "execute_result"
    }
   ],
   "source": [
    "x*y"
   ]
  },
  {
   "cell_type": "code",
   "execution_count": 127,
   "id": "08c17a6a",
   "metadata": {},
   "outputs": [
    {
     "data": {
      "text/plain": [
       "0"
      ]
     },
     "execution_count": 127,
     "metadata": {},
     "output_type": "execute_result"
    }
   ],
   "source": [
    "x*x"
   ]
  },
  {
   "cell_type": "code",
   "execution_count": 133,
   "id": "62eeecc6",
   "metadata": {},
   "outputs": [],
   "source": [
    "spam=0\n",
    "if spam==10: print('eggs')\n",
    " \n",
    "           "
   ]
  },
  {
   "cell_type": "code",
   "execution_count": 135,
   "id": "818d65ae",
   "metadata": {},
   "outputs": [
    {
     "name": "stdout",
     "output_type": "stream",
     "text": [
      "ham\n"
     ]
    }
   ],
   "source": [
    "   if spam >5: print('bacon')\n",
    "else:\n",
    "     print('ham')"
   ]
  },
  {
   "cell_type": "code",
   "execution_count": null,
   "id": "1e8d29a9",
   "metadata": {},
   "outputs": [],
   "source": [
    "spam =  int(input(\"Enter a number: \"))\n",
    "if (spam == 1):\n",
    "    print('Hello')\n",
    "elif (spam == 2):\n",
    "     print('howdy')\n",
    "else :\n",
    "    print('Greetings!!')"
   ]
  },
  {
   "cell_type": "code",
   "execution_count": 157,
   "id": "f8571e91",
   "metadata": {},
   "outputs": [
    {
     "data": {
      "text/plain": [
       "'1'"
      ]
     },
     "execution_count": 157,
     "metadata": {},
     "output_type": "execute_result"
    }
   ],
   "source": [
    "spam"
   ]
  },
  {
   "cell_type": "code",
   "execution_count": null,
   "id": "7b5e62ef",
   "metadata": {},
   "outputs": [],
   "source": [
    "spam"
   ]
  },
  {
   "cell_type": "code",
   "execution_count": null,
   "id": "b7ed498b",
   "metadata": {},
   "outputs": [],
   "source": [
    "i = 1\n",
    "while(i<=10):\n",
    "    print('i')\n",
    "    "
   ]
  },
  {
   "cell_type": "code",
   "execution_count": null,
   "id": "6bbd8a49",
   "metadata": {},
   "outputs": [],
   "source": [
    "for i in range(1,11)\n",
    " print(i)"
   ]
  },
  {
   "cell_type": "code",
   "execution_count": null,
   "id": "f9ef717c",
   "metadata": {},
   "outputs": [],
   "source": []
  }
 ],
 "metadata": {
  "kernelspec": {
   "display_name": "Python 3 (ipykernel)",
   "language": "python",
   "name": "python3"
  },
  "language_info": {
   "codemirror_mode": {
    "name": "ipython",
    "version": 3
   },
   "file_extension": ".py",
   "mimetype": "text/x-python",
   "name": "python",
   "nbconvert_exporter": "python",
   "pygments_lexer": "ipython3",
   "version": "3.9.7"
  }
 },
 "nbformat": 4,
 "nbformat_minor": 5
}
