{
 "cells": [
  {
   "cell_type": "code",
   "execution_count": 2,
   "id": "5141e9bc",
   "metadata": {},
   "outputs": [
    {
     "data": {
      "text/plain": [
       "[0, 1, 2, 3, 4, 5]"
      ]
     },
     "execution_count": 2,
     "metadata": {},
     "output_type": "execute_result"
    }
   ],
   "source": [
    "list(range(6))"
   ]
  },
  {
   "cell_type": "code",
   "execution_count": 4,
   "id": "143ddde2",
   "metadata": {},
   "outputs": [
    {
     "data": {
      "text/plain": [
       "[0, 1, 2, 3]"
      ]
     },
     "execution_count": 4,
     "metadata": {},
     "output_type": "execute_result"
    }
   ],
   "source": [
    "list(range(0,4))"
   ]
  },
  {
   "cell_type": "code",
   "execution_count": 11,
   "id": "9c4a10af",
   "metadata": {},
   "outputs": [
    {
     "data": {
      "text/plain": [
       "[3, 1, -1, -3, -5, -7, -9]"
      ]
     },
     "execution_count": 11,
     "metadata": {},
     "output_type": "execute_result"
    }
   ],
   "source": [
    "list(range(3,-10,-2))"
   ]
  },
  {
   "cell_type": "code",
   "execution_count": 12,
   "id": "0b02817b",
   "metadata": {},
   "outputs": [
    {
     "data": {
      "text/plain": [
       "[10, 9, 8, 7]"
      ]
     },
     "execution_count": 12,
     "metadata": {},
     "output_type": "execute_result"
    }
   ],
   "source": [
    "list(range(10,6,-1))"
   ]
  },
  {
   "cell_type": "code",
   "execution_count": 15,
   "id": "6f0200eb",
   "metadata": {},
   "outputs": [
    {
     "name": "stdout",
     "output_type": "stream",
     "text": [
      "10\n",
      "8\n",
      "6\n",
      "4\n",
      "2\n",
      "0\n",
      "-2\n",
      "-4\n"
     ]
    }
   ],
   "source": [
    "for i in range(10,-5,-2):\n",
    "    print(i)"
   ]
  },
  {
   "cell_type": "code",
   "execution_count": 19,
   "id": "8e8ea715",
   "metadata": {},
   "outputs": [
    {
     "name": "stdout",
     "output_type": "stream",
     "text": [
      "*\r\n",
      "**\r\n",
      "***\r\n",
      "****\r\n",
      "*****\r\n"
     ]
    }
   ],
   "source": [
    "n = 5\n",
    "for i in range(0,n):\n",
    "    for j in range(0, i+1):\n",
    "        print(\"*\",end = \"\")\n",
    "    print(\"\\r\")\n"
   ]
  },
  {
   "cell_type": "code",
   "execution_count": 26,
   "id": "0b252542",
   "metadata": {},
   "outputs": [],
   "source": [
    "t=(12,3,4,5,6,7,8)"
   ]
  },
  {
   "cell_type": "code",
   "execution_count": 32,
   "id": "a642e3dc",
   "metadata": {},
   "outputs": [
    {
     "ename": "SyntaxError",
     "evalue": "invalid syntax (Temp/ipykernel_8676/3788134968.py, line 1)",
     "output_type": "error",
     "traceback": [
      "\u001b[1;36m  File \u001b[1;32m\"C:\\Users\\MONALI~1.DHA\\AppData\\Local\\Temp/ipykernel_8676/3788134968.py\"\u001b[1;36m, line \u001b[1;32m1\u001b[0m\n\u001b[1;33m    for i in (range (len(t)-1,,-1)):\u001b[0m\n\u001b[1;37m                              ^\u001b[0m\n\u001b[1;31mSyntaxError\u001b[0m\u001b[1;31m:\u001b[0m invalid syntax\n"
     ]
    }
   ],
   "source": [
    "for i in (range (len(t)-1,,-1)):\n",
    "    print(t[i])\n"
   ]
  },
  {
   "cell_type": "code",
   "execution_count": 36,
   "id": "bb345264",
   "metadata": {},
   "outputs": [
    {
     "name": "stdout",
     "output_type": "stream",
     "text": [
      "a {'a': 'dguehgu', 'b': 'dyguoko', 'c': [1, 2, 3, 5, 6, 7], 'd': (4, 5, 6, 7)}\n",
      "b {'a': 'dguehgu', 'b': 'dyguoko', 'c': [1, 2, 3, 5, 6, 7], 'd': (4, 5, 6, 7)}\n",
      "c {'a': 'dguehgu', 'b': 'dyguoko', 'c': [1, 2, 3, 5, 6, 7], 'd': (4, 5, 6, 7)}\n",
      "d {'a': 'dguehgu', 'b': 'dyguoko', 'c': [1, 2, 3, 5, 6, 7], 'd': (4, 5, 6, 7)}\n"
     ]
    }
   ],
   "source": [
    "d = {\"a\" :\"dguehgu\",\"b\" :\"dyguoko\",\"c\":[1,2,3,5,6,7],\"d\":(4,5,6,7)}\n",
    "for i in d:\n",
    "    print(i,d)"
   ]
  },
  {
   "cell_type": "code",
   "execution_count": 38,
   "id": "acccb36b",
   "metadata": {},
   "outputs": [
    {
     "name": "stdout",
     "output_type": "stream",
     "text": [
      "('a', 'dguehgu')\n",
      "('b', 'dyguoko')\n",
      "('c', [1, 2, 3, 5, 6, 7])\n",
      "('d', (4, 5, 6, 7))\n"
     ]
    }
   ],
   "source": [
    "for i in d.items():\n",
    "    print(i)"
   ]
  },
  {
   "cell_type": "code",
   "execution_count": 40,
   "id": "7bbaf7cf",
   "metadata": {},
   "outputs": [
    {
     "name": "stdout",
     "output_type": "stream",
     "text": [
      "2\n",
      "3\n",
      "4\n",
      "5\n",
      "6\n",
      "7\n",
      "8\n",
      "9\n",
      "45\n",
      "23\n"
     ]
    }
   ],
   "source": [
    "s= {23,2,3,4,5,6,6,4,3,2,2,45,5,6,7,8,8,9}\n",
    "for i in s:\n",
    "    print(i)"
   ]
  },
  {
   "cell_type": "code",
   "execution_count": null,
   "id": "e40e8eed",
   "metadata": {},
   "outputs": [],
   "source": []
  }
 ],
 "metadata": {
  "kernelspec": {
   "display_name": "Python 3 (ipykernel)",
   "language": "python",
   "name": "python3"
  },
  "language_info": {
   "codemirror_mode": {
    "name": "ipython",
    "version": 3
   },
   "file_extension": ".py",
   "mimetype": "text/x-python",
   "name": "python",
   "nbconvert_exporter": "python",
   "pygments_lexer": "ipython3",
   "version": "3.9.7"
  }
 },
 "nbformat": 4,
 "nbformat_minor": 5
}
