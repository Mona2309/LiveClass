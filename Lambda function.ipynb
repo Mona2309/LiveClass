{
 "cells": [
  {
   "cell_type": "code",
   "execution_count": 3,
   "id": "cd8ba1ca",
   "metadata": {},
   "outputs": [],
   "source": [
    "def test(a,b,c,d,e):\n",
    "    return(a,b,c,d,e)"
   ]
  },
  {
   "cell_type": "code",
   "execution_count": 4,
   "id": "4879b9c3",
   "metadata": {},
   "outputs": [
    {
     "data": {
      "text/plain": [
       "(12, 3, 4, 5, 5)"
      ]
     },
     "execution_count": 4,
     "metadata": {},
     "output_type": "execute_result"
    }
   ],
   "source": [
    "test(12,3,4,5,5)"
   ]
  },
  {
   "cell_type": "code",
   "execution_count": 5,
   "id": "0530a974",
   "metadata": {},
   "outputs": [],
   "source": [
    "def test1(*args):\n",
    "    return args"
   ]
  },
  {
   "cell_type": "code",
   "execution_count": 6,
   "id": "43da658a",
   "metadata": {},
   "outputs": [
    {
     "data": {
      "text/plain": [
       "(3674, 3, 4, 5, 6)"
      ]
     },
     "execution_count": 6,
     "metadata": {},
     "output_type": "execute_result"
    }
   ],
   "source": [
    "test1(3674,3,4,5,6)"
   ]
  },
  {
   "cell_type": "code",
   "execution_count": 7,
   "id": "5b720f47",
   "metadata": {},
   "outputs": [
    {
     "data": {
      "text/plain": [
       "(2, 3, 4, [1, 2, 3, 4, 5])"
      ]
     },
     "execution_count": 7,
     "metadata": {},
     "output_type": "execute_result"
    }
   ],
   "source": [
    "test1(2,3,4,[1,2,3,4,5])"
   ]
  },
  {
   "cell_type": "code",
   "execution_count": 8,
   "id": "271e8d03",
   "metadata": {},
   "outputs": [
    {
     "data": {
      "text/plain": [
       "function"
      ]
     },
     "execution_count": 8,
     "metadata": {},
     "output_type": "execute_result"
    }
   ],
   "source": [
    "type(test1)"
   ]
  },
  {
   "cell_type": "code",
   "execution_count": 9,
   "id": "44f72633",
   "metadata": {},
   "outputs": [
    {
     "data": {
      "text/plain": [
       "({'a': '12', 'b': '23'},)"
      ]
     },
     "execution_count": 9,
     "metadata": {},
     "output_type": "execute_result"
    }
   ],
   "source": [
    "test1({'a':'12','b':'23'})"
   ]
  },
  {
   "cell_type": "code",
   "execution_count": 11,
   "id": "cf835ec1",
   "metadata": {},
   "outputs": [],
   "source": [
    "def test2(*mona):\n",
    "    return mona"
   ]
  },
  {
   "cell_type": "code",
   "execution_count": 12,
   "id": "d5cfefc6",
   "metadata": {},
   "outputs": [
    {
     "data": {
      "text/plain": [
       "(1, 2, 4, 5, 6, 'monanddhfiejirjg')"
      ]
     },
     "execution_count": 12,
     "metadata": {},
     "output_type": "execute_result"
    }
   ],
   "source": [
    "test2(1,2,4,5,6,\"monanddhfiejirjg\")"
   ]
  },
  {
   "cell_type": "code",
   "execution_count": 13,
   "id": "e9318008",
   "metadata": {},
   "outputs": [],
   "source": [
    "def test3(*mona, a):\n",
    "    return mona,a"
   ]
  },
  {
   "cell_type": "code",
   "execution_count": 15,
   "id": "d4068ee2",
   "metadata": {},
   "outputs": [
    {
     "data": {
      "text/plain": [
       "((34, 56, 4), 45)"
      ]
     },
     "execution_count": 15,
     "metadata": {},
     "output_type": "execute_result"
    }
   ],
   "source": [
    "test3(34,56,4, a = 45)"
   ]
  },
  {
   "cell_type": "code",
   "execution_count": 16,
   "id": "407234dc",
   "metadata": {},
   "outputs": [],
   "source": [
    "def test4(*mona, a,b,c,d):\n",
    "    return mona,a,b,c,d"
   ]
  },
  {
   "cell_type": "code",
   "execution_count": 18,
   "id": "7c6c76f6",
   "metadata": {},
   "outputs": [
    {
     "data": {
      "text/plain": [
       "(([1, 2, 3, 4], 34, 5, 6, 7), [1, 2, 3, 4], 45, 67, 32)"
      ]
     },
     "execution_count": 18,
     "metadata": {},
     "output_type": "execute_result"
    }
   ],
   "source": [
    "test4([1,2,3,4],34,5,6,7,a=[1,2,3,4],b=45,c=67,d=32)"
   ]
  },
  {
   "cell_type": "code",
   "execution_count": 19,
   "id": "a7829ef1",
   "metadata": {},
   "outputs": [],
   "source": [
    "def test3(a,*mona):\n",
    "    return mona,a"
   ]
  },
  {
   "cell_type": "code",
   "execution_count": 20,
   "id": "7d1d5a20",
   "metadata": {},
   "outputs": [],
   "source": [
    "def test5(a,*mona,b,c):\n",
    "    return a,mona,b,c"
   ]
  },
  {
   "cell_type": "code",
   "execution_count": 21,
   "id": "f574f57d",
   "metadata": {},
   "outputs": [
    {
     "data": {
      "text/plain": [
       "('ritu', ([1, 2, 3, 5], 1, 2, 34, 5, 6, 7, 8), 3, 5)"
      ]
     },
     "execution_count": 21,
     "metadata": {},
     "output_type": "execute_result"
    }
   ],
   "source": [
    "test5(\"ritu\",[1,2,3,5],1,2,34,5,6,7,8,b=3,c=5)"
   ]
  },
  {
   "cell_type": "code",
   "execution_count": 40,
   "id": "f2279290",
   "metadata": {},
   "outputs": [],
   "source": [
    "def test6(*a):\n",
    "    l =[]\n",
    "    for i in a:\n",
    "        if type(i)==list:\n",
    "            l.append(i)\n",
    "            \n",
    "    return l"
   ]
  },
  {
   "cell_type": "code",
   "execution_count": 41,
   "id": "406591b2",
   "metadata": {},
   "outputs": [
    {
     "data": {
      "text/plain": [
       "[[4321, 3, 4, 5, 6, 7, 7, 8], [123, 1, 3, 4, 5, 6, (4+5j)]]"
      ]
     },
     "execution_count": 41,
     "metadata": {},
     "output_type": "execute_result"
    }
   ],
   "source": [
    "test6( [4321,3,4,5,6,7,7,8], [123,1,3,4,5,6,4+5j] )"
   ]
  },
  {
   "cell_type": "code",
   "execution_count": 42,
   "id": "d84a03b0",
   "metadata": {},
   "outputs": [],
   "source": [
    "d={\"a\":[1,2,3,45,6,7,8,8],\"b\":[2,3.5,5,667,8,9]}"
   ]
  },
  {
   "cell_type": "code",
   "execution_count": 44,
   "id": "18bc6b18",
   "metadata": {},
   "outputs": [],
   "source": [
    "def test7(**mona):\n",
    "    return mona"
   ]
  },
  {
   "cell_type": "code",
   "execution_count": 49,
   "id": "af0d052b",
   "metadata": {},
   "outputs": [
    {
     "data": {
      "text/plain": [
       "{'a': 1, 'b': 2, 'c': 3, 'd': 4, 'e': 1}"
      ]
     },
     "execution_count": 49,
     "metadata": {},
     "output_type": "execute_result"
    }
   ],
   "source": [
    "test7(a=1,b=2,c=3,d=4,e=1)"
   ]
  },
  {
   "cell_type": "code",
   "execution_count": 50,
   "id": "5a476cf9",
   "metadata": {},
   "outputs": [],
   "source": [
    "def test8(**ritu):\n",
    "    return ritu"
   ]
  },
  {
   "cell_type": "code",
   "execution_count": 51,
   "id": "c095e11e",
   "metadata": {},
   "outputs": [
    {
     "data": {
      "text/plain": [
       "{'xyz': 456, 'c': (4+5j), 'd': 'mona'}"
      ]
     },
     "execution_count": 51,
     "metadata": {},
     "output_type": "execute_result"
    }
   ],
   "source": [
    "test8(xyz=456,c=4+5j,d='mona')"
   ]
  },
  {
   "cell_type": "code",
   "execution_count": 52,
   "id": "52982a8e",
   "metadata": {},
   "outputs": [],
   "source": [
    "def test9(**tree):\n",
    "    return tree"
   ]
  },
  {
   "cell_type": "code",
   "execution_count": 53,
   "id": "d4816a08",
   "metadata": {},
   "outputs": [
    {
     "data": {
      "text/plain": [
       "{'name': 'mona', 'age': 33, 'ph': 9739876454546, 'mail': 'dguguen@gmail.com'}"
      ]
     },
     "execution_count": 53,
     "metadata": {},
     "output_type": "execute_result"
    }
   ],
   "source": [
    "test9(name='mona', age= 33, ph=9739876454546, mail='dguguen@gmail.com')"
   ]
  },
  {
   "cell_type": "code",
   "execution_count": 54,
   "id": "cb24c6d1",
   "metadata": {},
   "outputs": [],
   "source": [
    "def test10(a,**mona):\n",
    "    return mona,a"
   ]
  },
  {
   "cell_type": "code",
   "execution_count": 55,
   "id": "aa4b3317",
   "metadata": {},
   "outputs": [
    {
     "data": {
      "text/plain": [
       "({'name': 'mona', 'age': 33, 'ph': 9739876454546, 'mail': 'dguguen@gmail.com'},\n",
       " 45)"
      ]
     },
     "execution_count": 55,
     "metadata": {},
     "output_type": "execute_result"
    }
   ],
   "source": [
    "test10(45,name='mona', age= 33, ph=9739876454546, mail='dguguen@gmail.com')"
   ]
  },
  {
   "cell_type": "code",
   "execution_count": 60,
   "id": "f9491c53",
   "metadata": {},
   "outputs": [],
   "source": [
    "def test12( a ,*args, **mona,):\n",
    "    return a, args, mona"
   ]
  },
  {
   "cell_type": "code",
   "execution_count": 61,
   "id": "d35fc0fc",
   "metadata": {},
   "outputs": [
    {
     "data": {
      "text/plain": [
       "(45,\n",
       " (4321, 3, 4, 5, 6, 7, 7, 8),\n",
       " {'name': 'mona', 'age': 33, 'ph': 9739876454546, 'mail': 'dguguen@gmail.com'})"
      ]
     },
     "execution_count": 61,
     "metadata": {},
     "output_type": "execute_result"
    }
   ],
   "source": [
    "test12(45,4321,3,4,5,6,7,7,8,name='mona', age= 33, ph=9739876454546, mail='dguguen@gmail.com')"
   ]
  },
  {
   "cell_type": "code",
   "execution_count": 66,
   "id": "4e12d7f0",
   "metadata": {},
   "outputs": [],
   "source": [
    "A= lambda a,b: (a*b,a+b)"
   ]
  },
  {
   "cell_type": "code",
   "execution_count": 67,
   "id": "28ffb66f",
   "metadata": {},
   "outputs": [
    {
     "data": {
      "text/plain": [
       "(2025, 90)"
      ]
     },
     "execution_count": 67,
     "metadata": {},
     "output_type": "execute_result"
    }
   ],
   "source": [
    "A(45,45)"
   ]
  },
  {
   "cell_type": "code",
   "execution_count": 68,
   "id": "ec7a44fd",
   "metadata": {},
   "outputs": [],
   "source": [
    "A= lambda *a:a+a"
   ]
  },
  {
   "cell_type": "code",
   "execution_count": 69,
   "id": "53f98939",
   "metadata": {},
   "outputs": [
    {
     "data": {
      "text/plain": [
       "(1, 2, 3, 4, 5, 1, 2, 3, 4, 5)"
      ]
     },
     "execution_count": 69,
     "metadata": {},
     "output_type": "execute_result"
    }
   ],
   "source": [
    "A(1,2,3,4,5)"
   ]
  },
  {
   "cell_type": "code",
   "execution_count": 70,
   "id": "47e0e8b8",
   "metadata": {},
   "outputs": [],
   "source": [
    "A= lambda **a: list(a)"
   ]
  },
  {
   "cell_type": "code",
   "execution_count": 72,
   "id": "09d9ac44",
   "metadata": {},
   "outputs": [
    {
     "data": {
      "text/plain": [
       "['name', 'age', 'ph', 'mail']"
      ]
     },
     "execution_count": 72,
     "metadata": {},
     "output_type": "execute_result"
    }
   ],
   "source": [
    "A(name='mona', age= 33, ph=9739876454546, mail='dguguen@gmail.com')"
   ]
  },
  {
   "cell_type": "code",
   "execution_count": 84,
   "id": "08eb3007",
   "metadata": {},
   "outputs": [],
   "source": [
    "x = lambda x : [ i for i in x]"
   ]
  },
  {
   "cell_type": "code",
   "execution_count": 85,
   "id": "81d5c5db",
   "metadata": {},
   "outputs": [
    {
     "data": {
      "text/plain": [
       "[1, 2, 3, 4]"
      ]
     },
     "execution_count": 85,
     "metadata": {},
     "output_type": "execute_result"
    }
   ],
   "source": [
    "x([1,2,3,4])"
   ]
  },
  {
   "cell_type": "code",
   "execution_count": 86,
   "id": "9636fdaf",
   "metadata": {},
   "outputs": [
    {
     "data": {
      "text/plain": [
       "[45]"
      ]
     },
     "execution_count": 86,
     "metadata": {},
     "output_type": "execute_result"
    }
   ],
   "source": [
    "x([45])"
   ]
  },
  {
   "cell_type": "code",
   "execution_count": null,
   "id": "014ec939",
   "metadata": {},
   "outputs": [],
   "source": []
  }
 ],
 "metadata": {
  "kernelspec": {
   "display_name": "Python 3 (ipykernel)",
   "language": "python",
   "name": "python3"
  },
  "language_info": {
   "codemirror_mode": {
    "name": "ipython",
    "version": 3
   },
   "file_extension": ".py",
   "mimetype": "text/x-python",
   "name": "python",
   "nbconvert_exporter": "python",
   "pygments_lexer": "ipython3",
   "version": "3.9.7"
  }
 },
 "nbformat": 4,
 "nbformat_minor": 5
}
