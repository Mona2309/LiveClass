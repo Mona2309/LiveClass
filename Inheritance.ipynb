{
 "cells": [
  {
   "cell_type": "code",
   "execution_count": 9,
   "id": "a13cc2cc",
   "metadata": {},
   "outputs": [],
   "source": [
    "class xyz:\n",
    "    def __init__(self,a,b,c):\n",
    "        self.a= a\n",
    "        self.b= b\n",
    "        self.c= c\n",
    "        \n",
    "    def test(self):\n",
    "        print(\"this is my first test method of xyx class\")\n",
    "        \n",
    "    def test1(self):\n",
    "        print(\"this is my first test method of xyx class\")\n",
    "        \n",
    "    def test2(self):\n",
    "        print(\"this is my first test method of xyx class\")\n",
    "        \n",
    "    "
   ]
  },
  {
   "cell_type": "code",
   "execution_count": 10,
   "id": "0f5091d6",
   "metadata": {},
   "outputs": [],
   "source": [
    "class xyz1(xyz):\n",
    "    pass"
   ]
  },
  {
   "cell_type": "code",
   "execution_count": 11,
   "id": "9620e01e",
   "metadata": {},
   "outputs": [],
   "source": [
    "p = xyx(1,2,3)"
   ]
  },
  {
   "cell_type": "code",
   "execution_count": 12,
   "id": "67fc366b",
   "metadata": {},
   "outputs": [
    {
     "name": "stdout",
     "output_type": "stream",
     "text": [
      "this is my first test method of xyx class\n"
     ]
    }
   ],
   "source": [
    "p.test1()"
   ]
  },
  {
   "cell_type": "code",
   "execution_count": 13,
   "id": "a29c2a08",
   "metadata": {},
   "outputs": [],
   "source": [
    "q= xyz1(6,7,8)"
   ]
  },
  {
   "cell_type": "code",
   "execution_count": 14,
   "id": "ec6c7796",
   "metadata": {},
   "outputs": [
    {
     "name": "stdout",
     "output_type": "stream",
     "text": [
      "this is my first test method of xyx class\n"
     ]
    }
   ],
   "source": [
    "q.test2()"
   ]
  },
  {
   "cell_type": "code",
   "execution_count": 21,
   "id": "f9f9924c",
   "metadata": {},
   "outputs": [],
   "source": [
    "class xyz1(xyz):\n",
    "    def test(self):\n",
    "        print(\"this is a test method available in xyz1\")"
   ]
  },
  {
   "cell_type": "code",
   "execution_count": 22,
   "id": "4d674547",
   "metadata": {},
   "outputs": [],
   "source": [
    "g = xyz1(2,34,4)"
   ]
  },
  {
   "cell_type": "code",
   "execution_count": 23,
   "id": "b639fcce",
   "metadata": {},
   "outputs": [
    {
     "name": "stdout",
     "output_type": "stream",
     "text": [
      "this is a test method available in xyz1\n"
     ]
    }
   ],
   "source": [
    "g.test()"
   ]
  },
  {
   "cell_type": "code",
   "execution_count": 43,
   "id": "e130e3f9",
   "metadata": {},
   "outputs": [],
   "source": [
    "class xyz:\n",
    "    def __init__(self,a,b,c):\n",
    "        self.a= a\n",
    "        self.b= b\n",
    "        self.c= c\n",
    "        \n",
    "    def test(self):\n",
    "        print(\"this is my first test method of xyx class\")\n",
    "        \n",
    "class xyz1:\n",
    "    def __init__(self,p,q,v):\n",
    "        self.p= p\n",
    "        self.q= q\n",
    "        self.v= v\n",
    "        \n",
    "    def test1(self):\n",
    "        print(\"this is my first test method of pqv class\")  \n",
    "        \n",
    "class child(xyz,xyz1):\n",
    "    def __init__(self,*args, **kwargs):\n",
    "        xyz.__init__(self,*args)\n",
    "        xyz1.__init__(self,**kwargs)\n",
    "    "
   ]
  },
  {
   "cell_type": "code",
   "execution_count": 44,
   "id": "15eb8c29",
   "metadata": {},
   "outputs": [],
   "source": [
    "n = child(2,4,5 , p= 9,q = 3,v = 4)"
   ]
  },
  {
   "cell_type": "code",
   "execution_count": 45,
   "id": "c5be14be",
   "metadata": {},
   "outputs": [
    {
     "data": {
      "text/plain": [
       "9"
      ]
     },
     "execution_count": 45,
     "metadata": {},
     "output_type": "execute_result"
    }
   ],
   "source": [
    "n.p"
   ]
  },
  {
   "cell_type": "code",
   "execution_count": 46,
   "id": "163130ea",
   "metadata": {},
   "outputs": [],
   "source": [
    "class xyz:\n",
    "    def __init__(self,a,b,c):\n",
    "        self.a= a\n",
    "        self.b= b\n",
    "        self.c= c\n",
    "        \n",
    "    def test(self):\n",
    "        print(\"this is my first test method of xyx class\")\n",
    "        \n",
    "class xyz1(xyz):\n",
    "    def test1(self):\n",
    "        print(\"this is my first test method of xyz class\")\n",
    "\n",
    "class xyz2(xyz1):\n",
    "    def test2(self):\n",
    "        print(\"this is my first test method of xyz1 class\")\n",
    "        \n",
    "class xyz3(xyz2):\n",
    "    def test3(self):\n",
    "        print(\"this is my method xyz3\")\n",
    "        \n"
   ]
  },
  {
   "cell_type": "code",
   "execution_count": 48,
   "id": "7e6cb0a4",
   "metadata": {},
   "outputs": [],
   "source": [
    "v = xyz2(1,2,3)\n"
   ]
  },
  {
   "cell_type": "code",
   "execution_count": 49,
   "id": "d639faac",
   "metadata": {},
   "outputs": [],
   "source": [
    "class file:\n",
    "    def __init__(self,f, g):\n",
    "        self.f = f\n",
    "        self.g = g\n",
    "    def read(self):\n",
    "        f = open(\"test.txt\", \"r\")\n",
    "        print(\"read the file\")\n",
    "    def write(self):\n",
    "        g= open(\"test.txt\", \"w\")\n",
    "        print(\"write the file\")\n",
    "        \n",
    "class newchild(file):\n",
    "    def nc1(self):\n",
    "        print(\"this is my read method file class\")\n",
    "        \n",
    "\n",
    "class newchild2(file):\n",
    "    def nc2(self):\n",
    "        print(\"this is my write method file class\")\n",
    "        \n",
    "    \n",
    "        "
   ]
  },
  {
   "cell_type": "code",
   "execution_count": 50,
   "id": "04b893d0",
   "metadata": {},
   "outputs": [
    {
     "ename": "TypeError",
     "evalue": "read() missing 1 required positional argument: 'self'",
     "output_type": "error",
     "traceback": [
      "\u001b[1;31m---------------------------------------------------------------------------\u001b[0m",
      "\u001b[1;31mTypeError\u001b[0m                                 Traceback (most recent call last)",
      "\u001b[1;32mC:\\Users\\MONALI~1.DHA\\AppData\\Local\\Temp/ipykernel_43944/4193636482.py\u001b[0m in \u001b[0;36m<module>\u001b[1;34m\u001b[0m\n\u001b[1;32m----> 1\u001b[1;33m \u001b[0mc\u001b[0m\u001b[1;33m=\u001b[0m\u001b[0mnewchild2\u001b[0m\u001b[1;33m.\u001b[0m\u001b[0mread\u001b[0m\u001b[1;33m(\u001b[0m\u001b[1;33m)\u001b[0m\u001b[1;33m\u001b[0m\u001b[1;33m\u001b[0m\u001b[0m\n\u001b[0m",
      "\u001b[1;31mTypeError\u001b[0m: read() missing 1 required positional argument: 'self'"
     ]
    }
   ],
   "source": [
    "c=newchild2.read()"
   ]
  },
  {
   "cell_type": "code",
   "execution_count": 77,
   "id": "8d3098e6",
   "metadata": {},
   "outputs": [],
   "source": [
    "class bonousclaculator():\n",
    "    def __init__(self, empid, emprating):\n",
    "        self.empid = empid\n",
    "        self.emprating =  emprating\n",
    "        self.__bonusforratingA = \"70%\"\n",
    "        self.__bonusforratingB = \"60%\"\n",
    "        self.__bonusforratingC = \"40%\"\n",
    "        self.__empmailid = \"sdbusahduhe\"\n",
    "    \n",
    "    def bonusclaculator(self):\n",
    "        if self.emprating == \"A\":\n",
    "            bonus = self.__bonusforratingA\n",
    "            return bonus\n",
    "        elif self.emprating == \"B\":\n",
    "            bonus = self.__bonusforratingB\n",
    "            return bonus\n",
    "        else :\n",
    "            bonus = self.__bonusforratingC\n",
    "            return bonus\n",
    "        \n",
    "        "
   ]
  },
  {
   "cell_type": "code",
   "execution_count": 69,
   "id": "c3c8ea7f",
   "metadata": {},
   "outputs": [],
   "source": [
    "emp1 = bonousclaculator(101,\"A\")\n",
    "emp2 = bonousclaculator(102,\"B\")\n",
    "emp3 = bonousclaculator(103,\"C\")"
   ]
  },
  {
   "cell_type": "code",
   "execution_count": 70,
   "id": "d83f9501",
   "metadata": {},
   "outputs": [
    {
     "data": {
      "text/plain": [
       "'70%'"
      ]
     },
     "execution_count": 70,
     "metadata": {},
     "output_type": "execute_result"
    }
   ],
   "source": [
    "emp1.bonusclaculator()"
   ]
  },
  {
   "cell_type": "code",
   "execution_count": 72,
   "id": "a93993e3",
   "metadata": {},
   "outputs": [
    {
     "data": {
      "text/plain": [
       "'60%'"
      ]
     },
     "execution_count": 72,
     "metadata": {},
     "output_type": "execute_result"
    }
   ],
   "source": [
    "emp2.bonusclaculator()"
   ]
  },
  {
   "cell_type": "code",
   "execution_count": 82,
   "id": "7b6b46fe",
   "metadata": {},
   "outputs": [],
   "source": [
    "emp2._bonousclaculator__bonusforratingB = \"100%\""
   ]
  },
  {
   "cell_type": "code",
   "execution_count": 83,
   "id": "b3068145",
   "metadata": {},
   "outputs": [
    {
     "data": {
      "text/plain": [
       "'100%'"
      ]
     },
     "execution_count": 83,
     "metadata": {},
     "output_type": "execute_result"
    }
   ],
   "source": [
    "emp2.bonusclaculator()"
   ]
  },
  {
   "cell_type": "code",
   "execution_count": 75,
   "id": "66882a24",
   "metadata": {},
   "outputs": [],
   "source": [
    "emp2.empid = 12345"
   ]
  },
  {
   "cell_type": "code",
   "execution_count": 76,
   "id": "4ae4c944",
   "metadata": {},
   "outputs": [
    {
     "data": {
      "text/plain": [
       "12345"
      ]
     },
     "execution_count": 76,
     "metadata": {},
     "output_type": "execute_result"
    }
   ],
   "source": [
    "emp2.empid"
   ]
  },
  {
   "cell_type": "code",
   "execution_count": null,
   "id": "a9a5f7a8",
   "metadata": {},
   "outputs": [],
   "source": []
  }
 ],
 "metadata": {
  "kernelspec": {
   "display_name": "Python 3 (ipykernel)",
   "language": "python",
   "name": "python3"
  },
  "language_info": {
   "codemirror_mode": {
    "name": "ipython",
    "version": 3
   },
   "file_extension": ".py",
   "mimetype": "text/x-python",
   "name": "python",
   "nbconvert_exporter": "python",
   "pygments_lexer": "ipython3",
   "version": "3.9.7"
  }
 },
 "nbformat": 4,
 "nbformat_minor": 5
}
