{
 "cells": [
  {
   "cell_type": "code",
   "execution_count": 1,
   "id": "6b09abe6",
   "metadata": {},
   "outputs": [],
   "source": [
    "l= [1,2,3,4,5]"
   ]
  },
  {
   "cell_type": "code",
   "execution_count": 2,
   "id": "272813ca",
   "metadata": {},
   "outputs": [
    {
     "ename": "TypeError",
     "evalue": "'list' object is not an iterator",
     "output_type": "error",
     "traceback": [
      "\u001b[1;31m---------------------------------------------------------------------------\u001b[0m",
      "\u001b[1;31mTypeError\u001b[0m                                 Traceback (most recent call last)",
      "\u001b[1;32mC:\\Users\\MONALI~1.DHA\\AppData\\Local\\Temp/ipykernel_35148/2016234150.py\u001b[0m in \u001b[0;36m<module>\u001b[1;34m\u001b[0m\n\u001b[1;32m----> 1\u001b[1;33m \u001b[0mnext\u001b[0m\u001b[1;33m(\u001b[0m\u001b[0ml\u001b[0m\u001b[1;33m)\u001b[0m\u001b[1;33m\u001b[0m\u001b[1;33m\u001b[0m\u001b[0m\n\u001b[0m",
      "\u001b[1;31mTypeError\u001b[0m: 'list' object is not an iterator"
     ]
    }
   ],
   "source": [
    "next(l)"
   ]
  },
  {
   "cell_type": "code",
   "execution_count": 3,
   "id": "8b91dbbe",
   "metadata": {},
   "outputs": [],
   "source": [
    "l= iter(l)"
   ]
  },
  {
   "cell_type": "code",
   "execution_count": 4,
   "id": "608b01ea",
   "metadata": {},
   "outputs": [
    {
     "data": {
      "text/plain": [
       "1"
      ]
     },
     "execution_count": 4,
     "metadata": {},
     "output_type": "execute_result"
    }
   ],
   "source": [
    "next(l)"
   ]
  },
  {
   "cell_type": "code",
   "execution_count": 5,
   "id": "da678c46",
   "metadata": {},
   "outputs": [],
   "source": [
    "a=56"
   ]
  },
  {
   "cell_type": "code",
   "execution_count": 6,
   "id": "7c3cae97",
   "metadata": {},
   "outputs": [
    {
     "ename": "TypeError",
     "evalue": "'int' object is not an iterator",
     "output_type": "error",
     "traceback": [
      "\u001b[1;31m---------------------------------------------------------------------------\u001b[0m",
      "\u001b[1;31mTypeError\u001b[0m                                 Traceback (most recent call last)",
      "\u001b[1;32mC:\\Users\\MONALI~1.DHA\\AppData\\Local\\Temp/ipykernel_35148/1242322984.py\u001b[0m in \u001b[0;36m<module>\u001b[1;34m\u001b[0m\n\u001b[1;32m----> 1\u001b[1;33m \u001b[0mnext\u001b[0m\u001b[1;33m(\u001b[0m\u001b[0ma\u001b[0m\u001b[1;33m)\u001b[0m\u001b[1;33m\u001b[0m\u001b[1;33m\u001b[0m\u001b[0m\n\u001b[0m",
      "\u001b[1;31mTypeError\u001b[0m: 'int' object is not an iterator"
     ]
    }
   ],
   "source": [
    "next(a)"
   ]
  },
  {
   "cell_type": "code",
   "execution_count": 7,
   "id": "6a299e3d",
   "metadata": {},
   "outputs": [
    {
     "ename": "TypeError",
     "evalue": "'int' object is not iterable",
     "output_type": "error",
     "traceback": [
      "\u001b[1;31m---------------------------------------------------------------------------\u001b[0m",
      "\u001b[1;31mTypeError\u001b[0m                                 Traceback (most recent call last)",
      "\u001b[1;32mC:\\Users\\MONALI~1.DHA\\AppData\\Local\\Temp/ipykernel_35148/2272847266.py\u001b[0m in \u001b[0;36m<module>\u001b[1;34m\u001b[0m\n\u001b[1;32m----> 1\u001b[1;33m \u001b[0ma\u001b[0m\u001b[1;33m=\u001b[0m \u001b[0miter\u001b[0m\u001b[1;33m(\u001b[0m\u001b[0ma\u001b[0m\u001b[1;33m)\u001b[0m\u001b[1;33m\u001b[0m\u001b[1;33m\u001b[0m\u001b[0m\n\u001b[0m",
      "\u001b[1;31mTypeError\u001b[0m: 'int' object is not iterable"
     ]
    }
   ],
   "source": [
    "a= iter(a)"
   ]
  },
  {
   "cell_type": "code",
   "execution_count": 8,
   "id": "8d8bd86f",
   "metadata": {},
   "outputs": [],
   "source": [
    "t=(1,2,3,4,5,56)"
   ]
  },
  {
   "cell_type": "code",
   "execution_count": 9,
   "id": "b17b4602",
   "metadata": {},
   "outputs": [],
   "source": [
    "t=iter(t)"
   ]
  },
  {
   "cell_type": "code",
   "execution_count": 10,
   "id": "235e4248",
   "metadata": {},
   "outputs": [
    {
     "data": {
      "text/plain": [
       "1"
      ]
     },
     "execution_count": 10,
     "metadata": {},
     "output_type": "execute_result"
    }
   ],
   "source": [
    "next(t)"
   ]
  },
  {
   "cell_type": "code",
   "execution_count": 11,
   "id": "58172027",
   "metadata": {},
   "outputs": [],
   "source": [
    "d={'a':'1234','b':'2345'}"
   ]
  },
  {
   "cell_type": "code",
   "execution_count": 19,
   "id": "950630b5",
   "metadata": {},
   "outputs": [],
   "source": [
    "d=iter(d)"
   ]
  },
  {
   "cell_type": "code",
   "execution_count": 20,
   "id": "6a1e4d65",
   "metadata": {},
   "outputs": [
    {
     "ename": "StopIteration",
     "evalue": "",
     "output_type": "error",
     "traceback": [
      "\u001b[1;31m---------------------------------------------------------------------------\u001b[0m",
      "\u001b[1;31mStopIteration\u001b[0m                             Traceback (most recent call last)",
      "\u001b[1;32mC:\\Users\\MONALI~1.DHA\\AppData\\Local\\Temp/ipykernel_35148/3131910724.py\u001b[0m in \u001b[0;36m<module>\u001b[1;34m\u001b[0m\n\u001b[1;32m----> 1\u001b[1;33m \u001b[0mnext\u001b[0m\u001b[1;33m(\u001b[0m\u001b[0md\u001b[0m\u001b[1;33m)\u001b[0m\u001b[1;33m\u001b[0m\u001b[1;33m\u001b[0m\u001b[0m\n\u001b[0m",
      "\u001b[1;31mStopIteration\u001b[0m: "
     ]
    }
   ],
   "source": [
    "next(d)"
   ]
  },
  {
   "cell_type": "code",
   "execution_count": 26,
   "id": "e70f3533",
   "metadata": {},
   "outputs": [],
   "source": [
    "t= list(range(0,45,3))"
   ]
  },
  {
   "cell_type": "code",
   "execution_count": 27,
   "id": "3bdb4f83",
   "metadata": {},
   "outputs": [
    {
     "data": {
      "text/plain": [
       "[0, 3, 6, 9, 12, 15, 18, 21, 24, 27, 30, 33, 36, 39, 42]"
      ]
     },
     "execution_count": 27,
     "metadata": {},
     "output_type": "execute_result"
    }
   ],
   "source": [
    "t"
   ]
  },
  {
   "cell_type": "code",
   "execution_count": 40,
   "id": "116d0637",
   "metadata": {},
   "outputs": [],
   "source": [
    "def gencube(n):\n",
    "    l=[]\n",
    "    for i in range(n):\n",
    "        l.append(i**3)\n",
    "    return l"
   ]
  },
  {
   "cell_type": "code",
   "execution_count": 43,
   "id": "542034d8",
   "metadata": {},
   "outputs": [
    {
     "data": {
      "text/plain": [
       "[0, 1, 8, 27, 64, 125, 216, 343, 512, 729]"
      ]
     },
     "execution_count": 43,
     "metadata": {},
     "output_type": "execute_result"
    }
   ],
   "source": [
    "gencube(10)"
   ]
  },
  {
   "cell_type": "code",
   "execution_count": 44,
   "id": "95d545b6",
   "metadata": {},
   "outputs": [],
   "source": [
    "def gencube(n):\n",
    "  \n",
    "    for i in range(n):\n",
    "        yield i**3\n",
    "    "
   ]
  },
  {
   "cell_type": "code",
   "execution_count": 46,
   "id": "6455657f",
   "metadata": {},
   "outputs": [
    {
     "name": "stdout",
     "output_type": "stream",
     "text": [
      "0\n",
      "1\n",
      "8\n",
      "27\n",
      "64\n",
      "125\n",
      "216\n"
     ]
    }
   ],
   "source": [
    "for i in gencube(7):\n",
    "    print (i)"
   ]
  },
  {
   "cell_type": "code",
   "execution_count": 49,
   "id": "b8653f15",
   "metadata": {},
   "outputs": [
    {
     "name": "stdout",
     "output_type": "stream",
     "text": [
      "Give amount: 8\n",
      "[0, 1, 1, 2, 3, 5, 8, 13]\n"
     ]
    }
   ],
   "source": [
    "a = int(input('Give the number: '))\n",
    "\n",
    "def fib(n):\n",
    "    a, b = 0, 1\n",
    "    for _ in range(n):\n",
    "        yield a\n",
    "        a, b = b, a + b\n",
    "\n",
    "print(list(fib(a)))"
   ]
  },
  {
   "cell_type": "code",
   "execution_count": 50,
   "id": "d3320fa7",
   "metadata": {},
   "outputs": [
    {
     "data": {
      "text/plain": [
       "'C:\\\\Users\\\\monalisha.dhal'"
      ]
     },
     "execution_count": 50,
     "metadata": {},
     "output_type": "execute_result"
    }
   ],
   "source": [
    "pwd"
   ]
  },
  {
   "cell_type": "code",
   "execution_count": 52,
   "id": "faddd4e4",
   "metadata": {},
   "outputs": [
    {
     "name": "stdout",
     "output_type": "stream",
     "text": [
      "Writing test1.txt\n"
     ]
    }
   ],
   "source": [
    "%%writefile test1.txt\n",
    "this is my first text file creation"
   ]
  },
  {
   "cell_type": "code",
   "execution_count": 53,
   "id": "6e760a14",
   "metadata": {},
   "outputs": [
    {
     "name": "stdout",
     "output_type": "stream",
     "text": [
      " Volume in drive C is OS\n",
      " Volume Serial Number is 5E1E-D7D9\n",
      "\n",
      " Directory of C:\\Users\\monalisha.dhal\n",
      "\n",
      "09-01-2022  12:02    <DIR>          .\n",
      "09-01-2022  12:02    <DIR>          ..\n",
      "23-08-2021  21:22             2,533 .bash_history\n",
      "06-12-2021  12:14    <DIR>          .conda\n",
      "04-12-2021  10:21                25 .condarc\n",
      "04-12-2021  10:21    <DIR>          .continuum\n",
      "13-08-2021  11:03                94 .gitconfig\n",
      "08-04-2021  10:59    <DIR>          .idlerc\n",
      "09-01-2022  12:01    <DIR>          .ipynb_checkpoints\n",
      "08-04-2021  15:52    <DIR>          .ipython\n",
      "18-12-2021  10:51    <DIR>          .jupyter\n",
      "13-08-2021  10:49                20 .lesshst\n",
      "01-09-2021  11:19             6,860 .viminfo\n",
      "18-01-2021  20:53                 0 @{Build=1.20.1119.2; BatchName=ABC; MaxTotalMemoryInMB=8239; MaxHeapSizeInMB=8703}\n",
      "29-03-2021  12:03    <DIR>          3D Objects\n",
      "29-11-2021  12:42    <DIR>          Anaconda3\n",
      "25-08-2020  17:05    <DIR>          Backup C document\n",
      "08-01-2022  10:21            15,986 Classassignement.ipynb\n",
      "29-03-2021  12:03    <DIR>          Contacts\n",
      "20-12-2021  21:53             5,266 Controlflow.ipynb\n",
      "13-12-2021  14:57            12,668 Dec5.ipynb\n",
      "04-01-2022  10:54    <DIR>          Desktop\n",
      "22-10-2020  05:52           648,820 Dimension.DimCustomerObsolete.csv\n",
      "29-11-2021  12:42    <DIR>          Documents\n",
      "07-01-2022  10:14    <DIR>          Downloads\n",
      "29-03-2021  12:03    <DIR>          Favorites\n",
      "02-01-2022  13:06            20,631 function.ipynb\n",
      "09-01-2022  12:02             8,945 Generatorand fileoperation.ipynb\n",
      "07-12-2021  10:24             3,262 Github checkin.ipynb\n",
      "21-10-2021  11:49             1,224 jobrunningDuration.log\n",
      "09-01-2022  11:13            11,738 Lambda function.ipynb\n",
      "29-03-2021  12:03    <DIR>          Links\n",
      "18-01-2021  10:52                80 liveServer_01_05_2021_15_44_32.csv\n",
      "18-01-2021  10:51                65 liveServer_01_12_2021_13_53_32.csv\n",
      "05-07-2021  19:54    <DIR>          Logs\n",
      "19-01-2021  10:34                 0 MaxInfo.csv\n",
      "16-12-2020  11:24                97 Memory.csv\n",
      "27-01-2021  17:40               340 Memoryresults.csv\n",
      "26-07-2021  15:54    <DIR>          Microsoft\n",
      "29-03-2021  12:03    <DIR>          Music\n",
      "18-12-2021  10:17               864 Mycode.ipynb\n",
      "16-07-2021  15:30             2,610 newk8\n",
      "16-07-2021  15:30               579 newk8.pub\n",
      "16-07-2021  15:26    <DIR>          NewKeyk8\n",
      "11-11-2020  17:07            18,944 Obfuscation.exe\n",
      "09-01-2022  10:04    <DIR>          OneDrive\n",
      "08-04-2021  15:50    <DIR>          opencv\n",
      "21-06-2021  15:23    <DIR>          Pictures\n",
      "21-12-2021  21:55             6,527 problems21-12.ipynb\n",
      "03-06-2021  10:08    <DIR>          PycharmProjects\n",
      "16-07-2021  15:26    <DIR>          Python-HKeys\n",
      "21-10-2021  11:49               243 Result.xml\n",
      "22-02-2021  17:13                95 Result00.xml\n",
      "12-02-2021  10:38                95 Result01.xml\n",
      "29-03-2021  12:03    <DIR>          Saved Games\n",
      "31-08-2020  13:06    <DIR>          Scripts\n",
      "29-03-2021  12:03    <DIR>          Searches\n",
      "31-08-2020  12:47                13 ServerList.txt.txt\n",
      "15-07-2021  15:29    <DIR>          source\n",
      "20-05-2021  12:20                 0 test.txt\n",
      "09-01-2022  12:02                37 test1.txt\n",
      "19-12-2021  20:43            25,046 Tuples,set and dict.ipynb\n",
      "07-12-2021  17:20             7,528 Untitled.ipynb\n",
      "19-12-2021  20:44             1,310 Untitled1.ipynb\n",
      "19-12-2021  20:46             1,443 Untitled2.ipynb\n",
      "06-01-2022  12:10            21,803 Untitled3.ipynb\n",
      "29-03-2021  12:03    <DIR>          Videos\n",
      "              36 File(s)        825,791 bytes\n",
      "              31 Dir(s)  106,315,067,392 bytes free\n"
     ]
    }
   ],
   "source": [
    "%ls"
   ]
  },
  {
   "cell_type": "code",
   "execution_count": 69,
   "id": "20895bfe",
   "metadata": {},
   "outputs": [],
   "source": [
    "f =open('test1.txt')"
   ]
  },
  {
   "cell_type": "code",
   "execution_count": 70,
   "id": "a0b0fa20",
   "metadata": {},
   "outputs": [
    {
     "data": {
      "text/plain": [
       "'this is my first text file creation\\n'"
      ]
     },
     "execution_count": 70,
     "metadata": {},
     "output_type": "execute_result"
    }
   ],
   "source": [
    "f.read()"
   ]
  },
  {
   "cell_type": "code",
   "execution_count": 67,
   "id": "dc88e50a",
   "metadata": {},
   "outputs": [],
   "source": [
    "f.close()"
   ]
  },
  {
   "cell_type": "code",
   "execution_count": 60,
   "id": "b2f7602c",
   "metadata": {},
   "outputs": [
    {
     "ename": "ValueError",
     "evalue": "I/O operation on closed file.",
     "output_type": "error",
     "traceback": [
      "\u001b[1;31m---------------------------------------------------------------------------\u001b[0m",
      "\u001b[1;31mValueError\u001b[0m                                Traceback (most recent call last)",
      "\u001b[1;32mC:\\Users\\MONALI~1.DHA\\AppData\\Local\\Temp/ipykernel_35148/4057061320.py\u001b[0m in \u001b[0;36m<module>\u001b[1;34m\u001b[0m\n\u001b[1;32m----> 1\u001b[1;33m \u001b[0mf\u001b[0m\u001b[1;33m.\u001b[0m\u001b[0mwrite\u001b[0m\u001b[1;33m(\u001b[0m\u001b[1;34m\"gygdsuguasiiai\"\u001b[0m\u001b[1;33m)\u001b[0m\u001b[1;33m\u001b[0m\u001b[1;33m\u001b[0m\u001b[0m\n\u001b[0m",
      "\u001b[1;31mValueError\u001b[0m: I/O operation on closed file."
     ]
    }
   ],
   "source": [
    "f.write(\"gygdsuguasiiai\")"
   ]
  },
  {
   "cell_type": "code",
   "execution_count": 71,
   "id": "23518d07",
   "metadata": {},
   "outputs": [
    {
     "data": {
      "text/plain": [
       "5"
      ]
     },
     "execution_count": 71,
     "metadata": {},
     "output_type": "execute_result"
    }
   ],
   "source": [
    "f.seek(5)"
   ]
  },
  {
   "cell_type": "code",
   "execution_count": 72,
   "id": "62d98041",
   "metadata": {},
   "outputs": [
    {
     "data": {
      "text/plain": [
       "'is my first text file creation\\n'"
      ]
     },
     "execution_count": 72,
     "metadata": {},
     "output_type": "execute_result"
    }
   ],
   "source": [
    "f.read()"
   ]
  },
  {
   "cell_type": "code",
   "execution_count": 73,
   "id": "9757cf14",
   "metadata": {},
   "outputs": [
    {
     "data": {
      "text/plain": [
       "37"
      ]
     },
     "execution_count": 73,
     "metadata": {},
     "output_type": "execute_result"
    }
   ],
   "source": [
    "f.tell()"
   ]
  },
  {
   "cell_type": "code",
   "execution_count": 74,
   "id": "1dce6f6e",
   "metadata": {},
   "outputs": [
    {
     "data": {
      "text/plain": [
       "0"
      ]
     },
     "execution_count": 74,
     "metadata": {},
     "output_type": "execute_result"
    }
   ],
   "source": [
    "f.seek(0)"
   ]
  },
  {
   "cell_type": "code",
   "execution_count": 75,
   "id": "7586ef09",
   "metadata": {},
   "outputs": [
    {
     "data": {
      "text/plain": [
       "'this is my first text file creation\\n'"
      ]
     },
     "execution_count": 75,
     "metadata": {},
     "output_type": "execute_result"
    }
   ],
   "source": [
    "f.read()"
   ]
  },
  {
   "cell_type": "code",
   "execution_count": 76,
   "id": "8e8123ff",
   "metadata": {},
   "outputs": [
    {
     "name": "stdout",
     "output_type": "stream",
     "text": [
      "Writing test4.txt\n"
     ]
    }
   ],
   "source": [
    "%%writefile test4.txt\n",
    "rwad and wertite the  file d snjbuhik"
   ]
  },
  {
   "cell_type": "code",
   "execution_count": 77,
   "id": "85d99af7",
   "metadata": {},
   "outputs": [],
   "source": [
    "f= open('test4.txt')"
   ]
  },
  {
   "cell_type": "code",
   "execution_count": 78,
   "id": "e908c309",
   "metadata": {},
   "outputs": [
    {
     "data": {
      "text/plain": [
       "'rwad and wertite the  file d snjbuhik\\n'"
      ]
     },
     "execution_count": 78,
     "metadata": {},
     "output_type": "execute_result"
    }
   ],
   "source": [
    "f.read()"
   ]
  },
  {
   "cell_type": "code",
   "execution_count": 80,
   "id": "0c77e83c",
   "metadata": {},
   "outputs": [
    {
     "data": {
      "text/plain": [
       "39"
      ]
     },
     "execution_count": 80,
     "metadata": {},
     "output_type": "execute_result"
    }
   ],
   "source": [
    "f.tell()"
   ]
  },
  {
   "cell_type": "code",
   "execution_count": 81,
   "id": "d44aea24",
   "metadata": {},
   "outputs": [
    {
     "data": {
      "text/plain": [
       "0"
      ]
     },
     "execution_count": 81,
     "metadata": {},
     "output_type": "execute_result"
    }
   ],
   "source": [
    "f.seek(0)"
   ]
  },
  {
   "cell_type": "code",
   "execution_count": 82,
   "id": "4cccdfa0",
   "metadata": {},
   "outputs": [
    {
     "data": {
      "text/plain": [
       "'rwad and wertite the  file d snjbuhik\\n'"
      ]
     },
     "execution_count": 82,
     "metadata": {},
     "output_type": "execute_result"
    }
   ],
   "source": [
    "f.readline()"
   ]
  },
  {
   "cell_type": "code",
   "execution_count": 84,
   "id": "7dd9c3f2",
   "metadata": {},
   "outputs": [
    {
     "data": {
      "text/plain": [
       "39"
      ]
     },
     "execution_count": 84,
     "metadata": {},
     "output_type": "execute_result"
    }
   ],
   "source": [
    "f.tell()"
   ]
  },
  {
   "cell_type": "code",
   "execution_count": 85,
   "id": "5ad73ef0",
   "metadata": {},
   "outputs": [],
   "source": [
    "f= open('google.txt',\"w\")"
   ]
  },
  {
   "cell_type": "code",
   "execution_count": 86,
   "id": "98fc2f75",
   "metadata": {},
   "outputs": [
    {
     "data": {
      "text/plain": [
       "469"
      ]
     },
     "execution_count": 86,
     "metadata": {},
     "output_type": "execute_result"
    }
   ],
   "source": [
    "f.write(\"\"\"Python readline() method reads only one complete line from the file given.\n",
    "It appends a newline (“\\n”) at the end of the line.\n",
    "If you open the file in normal read mode, readline() will return you the string.\n",
    "If you open the file in binary mode, readline() will return you binary object.\n",
    "You can give size as an argument to readline(), and it will get you the line as per the size given inclusive of the newline. By default, the size is 0, and it returns the entire line.\"\"\")"
   ]
  },
  {
   "cell_type": "code",
   "execution_count": 87,
   "id": "e24886a1",
   "metadata": {},
   "outputs": [],
   "source": [
    "f.close()"
   ]
  },
  {
   "cell_type": "code",
   "execution_count": 89,
   "id": "e6304b7e",
   "metadata": {},
   "outputs": [],
   "source": [
    "f=open(\"google.txt\",\"r+\")"
   ]
  },
  {
   "cell_type": "code",
   "execution_count": 90,
   "id": "be991fc7",
   "metadata": {},
   "outputs": [
    {
     "data": {
      "text/plain": [
       "'Python readline() method reads only one complete line from the file given.\\nIt appends a newline (“\\n”) at the end of the line.\\nIf you open the file in normal read mode, readline() will return you the string.\\nIf you open the file in binary mode, readline() will return you binary object.\\nYou can give size as an argument to readline(), and it will get you the line as per the size given inclusive of the newline. By default, the size is 0, and it returns the entire line.'"
      ]
     },
     "execution_count": 90,
     "metadata": {},
     "output_type": "execute_result"
    }
   ],
   "source": [
    "f.read()"
   ]
  },
  {
   "cell_type": "code",
   "execution_count": 91,
   "id": "4669ef48",
   "metadata": {},
   "outputs": [
    {
     "data": {
      "text/plain": [
       "0"
      ]
     },
     "execution_count": 91,
     "metadata": {},
     "output_type": "execute_result"
    }
   ],
   "source": [
    "f.seek(0)"
   ]
  },
  {
   "cell_type": "code",
   "execution_count": 93,
   "id": "9341d169",
   "metadata": {},
   "outputs": [
    {
     "data": {
      "text/plain": [
       "'Python readline() method reads only one complete line from the file given.\\n'"
      ]
     },
     "execution_count": 93,
     "metadata": {},
     "output_type": "execute_result"
    }
   ],
   "source": [
    "f.readline()"
   ]
  },
  {
   "cell_type": "code",
   "execution_count": 94,
   "id": "d8adc932",
   "metadata": {},
   "outputs": [
    {
     "data": {
      "text/plain": [
       "'It appends a newline (“\\n'"
      ]
     },
     "execution_count": 94,
     "metadata": {},
     "output_type": "execute_result"
    }
   ],
   "source": [
    "f.readline()"
   ]
  },
  {
   "cell_type": "code",
   "execution_count": 95,
   "id": "6514bede",
   "metadata": {},
   "outputs": [
    {
     "data": {
      "text/plain": [
       "'”) at the end of the line.\\n'"
      ]
     },
     "execution_count": 95,
     "metadata": {},
     "output_type": "execute_result"
    }
   ],
   "source": [
    "f.readline()"
   ]
  },
  {
   "cell_type": "code",
   "execution_count": 96,
   "id": "1d8b58fa",
   "metadata": {},
   "outputs": [
    {
     "data": {
      "text/plain": [
       "'If you open the file in normal read mode, readline() will return you the string.\\n'"
      ]
     },
     "execution_count": 96,
     "metadata": {},
     "output_type": "execute_result"
    }
   ],
   "source": [
    "f.readline()"
   ]
  },
  {
   "cell_type": "code",
   "execution_count": 97,
   "id": "49668bc5",
   "metadata": {},
   "outputs": [
    {
     "data": {
      "text/plain": [
       "'If you open the file in binary mode, readline() will return you binary object.\\n'"
      ]
     },
     "execution_count": 97,
     "metadata": {},
     "output_type": "execute_result"
    }
   ],
   "source": [
    "f.readline()"
   ]
  },
  {
   "cell_type": "code",
   "execution_count": 98,
   "id": "829a7864",
   "metadata": {},
   "outputs": [
    {
     "data": {
      "text/plain": [
       "'You can give size as an argument to readline(), and it will get you the line as per the size given inclusive of the newline. By default, the size is 0, and it returns the entire line.'"
      ]
     },
     "execution_count": 98,
     "metadata": {},
     "output_type": "execute_result"
    }
   ],
   "source": [
    "f.readline()"
   ]
  },
  {
   "cell_type": "code",
   "execution_count": 99,
   "id": "95901612",
   "metadata": {},
   "outputs": [
    {
     "data": {
      "text/plain": [
       "''"
      ]
     },
     "execution_count": 99,
     "metadata": {},
     "output_type": "execute_result"
    }
   ],
   "source": [
    "f.readline()"
   ]
  },
  {
   "cell_type": "code",
   "execution_count": 100,
   "id": "58a2c8f0",
   "metadata": {},
   "outputs": [],
   "source": [
    "f.close()"
   ]
  },
  {
   "cell_type": "code",
   "execution_count": 102,
   "id": "dfa7d1e9",
   "metadata": {},
   "outputs": [],
   "source": [
    "f=open('google.txt',\"r+\")"
   ]
  },
  {
   "cell_type": "code",
   "execution_count": 105,
   "id": "63889958",
   "metadata": {},
   "outputs": [
    {
     "data": {
      "text/plain": [
       "7"
      ]
     },
     "execution_count": 105,
     "metadata": {},
     "output_type": "execute_result"
    }
   ],
   "source": [
    "f.seek(7)"
   ]
  },
  {
   "cell_type": "code",
   "execution_count": 106,
   "id": "125fe494",
   "metadata": {},
   "outputs": [
    {
     "data": {
      "text/plain": [
       "34"
      ]
     },
     "execution_count": 106,
     "metadata": {},
     "output_type": "execute_result"
    }
   ],
   "source": [
    "f.write(\"this is writng tin duhdifnlocation\")"
   ]
  },
  {
   "cell_type": "code",
   "execution_count": 107,
   "id": "3567c8f5",
   "metadata": {},
   "outputs": [
    {
     "data": {
      "text/plain": [
       "0"
      ]
     },
     "execution_count": 107,
     "metadata": {},
     "output_type": "execute_result"
    }
   ],
   "source": [
    "f.seek(0)"
   ]
  },
  {
   "cell_type": "code",
   "execution_count": 108,
   "id": "53613a93",
   "metadata": {},
   "outputs": [],
   "source": [
    "f=open('google.txt',\"r+\")"
   ]
  },
  {
   "cell_type": "code",
   "execution_count": 109,
   "id": "589d2c7b",
   "metadata": {},
   "outputs": [
    {
     "data": {
      "text/plain": [
       "['Python this is writng tin duhdifnlocationomplete line from the file given.\\n',\n",
       " 'It appends a newline (“\\n',\n",
       " '”) at the end of the line.\\n',\n",
       " 'If you open the file in normal read mode, readline() will return you the string.\\n',\n",
       " 'If you open the file in binary mode, readline() will return you binary object.\\n',\n",
       " 'You can give size as an argument to readline(), and it will get you the line as per the size given inclusive of the newline. By default, the size is 0, and it returns the entire line.']"
      ]
     },
     "execution_count": 109,
     "metadata": {},
     "output_type": "execute_result"
    }
   ],
   "source": [
    "f.readlines()"
   ]
  },
  {
   "cell_type": "code",
   "execution_count": null,
   "id": "0d09bd16",
   "metadata": {},
   "outputs": [],
   "source": []
  }
 ],
 "metadata": {
  "kernelspec": {
   "display_name": "Python 3 (ipykernel)",
   "language": "python",
   "name": "python3"
  },
  "language_info": {
   "codemirror_mode": {
    "name": "ipython",
    "version": 3
   },
   "file_extension": ".py",
   "mimetype": "text/x-python",
   "name": "python",
   "nbconvert_exporter": "python",
   "pygments_lexer": "ipython3",
   "version": "3.9.7"
  }
 },
 "nbformat": 4,
 "nbformat_minor": 5
}
