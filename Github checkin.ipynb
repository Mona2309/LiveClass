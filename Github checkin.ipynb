{
 "cells": [
  {
   "cell_type": "code",
   "execution_count": null,
   "id": "b4b7d460",
   "metadata": {},
   "outputs": [],
   "source": [
    "pwd"
   ]
  },
  {
   "cell_type": "code",
   "execution_count": null,
   "id": "57a5906f",
   "metadata": {},
   "outputs": [],
   "source": [
    "\"Hello World\""
   ]
  },
  {
   "cell_type": "code",
   "execution_count": null,
   "id": "c3dcf5bf",
   "metadata": {},
   "outputs": [],
   "source": [
    "import this"
   ]
  },
  {
   "cell_type": "code",
   "execution_count": null,
   "id": "df88d700",
   "metadata": {},
   "outputs": [],
   "source": [
    "print(\"this is my first program\")"
   ]
  },
  {
   "cell_type": "code",
   "execution_count": null,
   "id": "1b7e715e",
   "metadata": {},
   "outputs": [],
   "source": [
    "len(\"monalisha\")"
   ]
  },
  {
   "cell_type": "code",
   "execution_count": null,
   "id": "166c8649",
   "metadata": {},
   "outputs": [],
   "source": [
    "round(3/8)"
   ]
  },
  {
   "cell_type": "code",
   "execution_count": null,
   "id": "2a20e23e",
   "metadata": {},
   "outputs": [],
   "source": [
    "g=True"
   ]
  },
  {
   "cell_type": "code",
   "execution_count": null,
   "id": "8b34c6c6",
   "metadata": {},
   "outputs": [],
   "source": [
    "type(g)"
   ]
  },
  {
   "cell_type": "code",
   "execution_count": null,
   "id": "62652b21",
   "metadata": {},
   "outputs": [],
   "source": [
    "e= 3+6j"
   ]
  },
  {
   "cell_type": "code",
   "execution_count": null,
   "id": "3f2e2f37",
   "metadata": {},
   "outputs": [],
   "source": [
    "type(e)"
   ]
  },
  {
   "cell_type": "code",
   "execution_count": null,
   "id": "b4f9cdea",
   "metadata": {},
   "outputs": [],
   "source": [
    "e.imag"
   ]
  },
  {
   "cell_type": "code",
   "execution_count": null,
   "id": "f28c312d",
   "metadata": {},
   "outputs": [],
   "source": [
    "e.real"
   ]
  },
  {
   "cell_type": "code",
   "execution_count": null,
   "id": "72fc0cb9",
   "metadata": {},
   "outputs": [],
   "source": [
    "d=\"hduhfuefejfoskgos\""
   ]
  },
  {
   "cell_type": "code",
   "execution_count": null,
   "id": "1c579d41",
   "metadata": {},
   "outputs": [],
   "source": [
    "d.capitalize"
   ]
  },
  {
   "cell_type": "code",
   "execution_count": null,
   "id": "fae13b69",
   "metadata": {},
   "outputs": [],
   "source": [
    "b=\"heuhfuehujn\""
   ]
  },
  {
   "cell_type": "code",
   "execution_count": null,
   "id": "1718e21b",
   "metadata": {},
   "outputs": [],
   "source": [
    "d+b"
   ]
  },
  {
   "cell_type": "code",
   "execution_count": null,
   "id": "9ea8f1e2",
   "metadata": {},
   "outputs": [],
   "source": [
    "d+''+b"
   ]
  },
  {
   "cell_type": "code",
   "execution_count": null,
   "id": "8d119b5d",
   "metadata": {},
   "outputs": [],
   "source": []
  }
 ],
 "metadata": {
  "kernelspec": {
   "display_name": "Python 3 (ipykernel)",
   "language": "python",
   "name": "python3"
  },
  "language_info": {
   "codemirror_mode": {
    "name": "ipython",
    "version": 3
   },
   "file_extension": ".py",
   "mimetype": "text/x-python",
   "name": "python",
   "nbconvert_exporter": "python",
   "pygments_lexer": "ipython3",
   "version": "3.9.7"
  }
 },
 "nbformat": 4,
 "nbformat_minor": 5
}
